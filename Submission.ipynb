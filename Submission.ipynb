{
 "cells": [
  {
   "cell_type": "code",
   "execution_count": 128,
   "id": "833e3e73",
   "metadata": {},
   "outputs": [],
   "source": [
    "# Add needed libraries\n",
    "import numpy as np\n",
    "import pandas as pd\n",
    "import matplotlib.pyplot as plt\n",
    "import seaborn as sns\n",
    "import random\n",
    "import pickle\n",
    "\n",
    "# Preprocessing\n",
    "from sklearn.preprocessing import OneHotEncoder\n",
    "\n",
    "# VIF for multi-collinearity detection\n",
    "from statsmodels.stats.outliers_influence import variance_inflation_factor\n",
    "\n",
    "# Models and modeling tools\n",
    "from sklearn.model_selection import train_test_split\n",
    "import statsmodels.api as sm\n",
    "from sklearn.model_selection import KFold\n",
    "from sklearn.model_selection import StratifiedKFold\n",
    "from sklearn.model_selection import RepeatedStratifiedKFold\n",
    "from sklearn.model_selection import cross_val_score\n",
    "from sklearn.metrics import accuracy_score, recall_score, precision_score\n",
    "from sklearn.metrics import f1_score, balanced_accuracy_score\n",
    "\n",
    "from imblearn.over_sampling import SMOTE\n",
    "from imblearn.under_sampling import RandomUnderSampler\n",
    "from imblearn.pipeline import Pipeline\n",
    "\n",
    "from sklearn.metrics import confusion_matrix\n",
    "from sklearn.metrics import ConfusionMatrixDisplay\n",
    "\n",
    "# Change inline plots default size\n",
    "plt.rcParams['figure.figsize'] = [14, 10]"
   ]
  },
  {
   "cell_type": "markdown",
   "id": "5dab0f5b",
   "metadata": {},
   "source": [
    "## Data description: ##\n",
    "The data comes from direct marketing efforts of a European banking institution. The marketing campaign involves making a phone call to a customer, often multiple times to ensure a product subscription, in this case a term deposit. Term deposits are usually short-term deposits with maturities ranging from one month to a few years. The customer must understand when buying a term deposit that they can withdraw their funds only after the term ends. All customer information that might reveal personal information is removed due to privacy concerns.\n",
    "\n",
    "- y = has the client subscribed to a term deposit? (binary)\n",
    "- age = age of customer (numeric)\n",
    "- job = type of job (categorical)\n",
    "- marital = marital status (categorical)\n",
    "- education = education level (categorical)\n",
    "- default = has credit in default (binary)\n",
    "- balance = average yearly balance, in euros (numeric)\n",
    "- housing = has a housing loan? (binary)\n",
    "- loan = has personal loan? (binary)\n",
    "- contact = contact communication type (categorical)\n",
    "- day = last contact day of the month (numeric)\n",
    "- month = last contact month of year (categorical)\n",
    "- duration = last contact duration, in seconds (numeric)\n",
    "- campaign = number of contacts performed during this campaign and for this client (numeric, includes last contact)"
   ]
  },
  {
   "cell_type": "markdown",
   "id": "b06002d8",
   "metadata": {},
   "source": [
    "## Analysis Summary: ##"
   ]
  },
  {
   "cell_type": "markdown",
   "id": "9bc425ec",
   "metadata": {},
   "source": [
    "#### Goal(s): ####\n",
    "\n",
    "Predict if the customer will subscribe (yes/no) to a term deposit contract (variable y)\n",
    "\n",
    "#### Bonus(es): ####\n",
    "\n",
    "We are also interested in finding customers who are more likely to buy the investment product. Determine the segment(s) of customers our client should prioritize.\n",
    "\n",
    "What makes the customers buy? Tell us which feature we should be focusing more on.\n",
    "\n",
    "<font size=\"3\" >\n",
    "    \n",
    "#### Background ####\n",
    "    \n",
    "Some demographic information, financial status and call center interaction data was collected for customers during a direct marketing campaign selling term deposits to clients at a European bank. The data was used to develop a model to predict whether a customer will subscribe to the term deposit. Naturally, the typical subscription success rate is low (only 7.2% in the provided dataset), so the model must balance the tradeoff between losing possible subscriptions and producing false leads.\n",
    "    \n",
    "#### Demographic and Financial Model ####\n",
    "    \n",
    "Logistic Regression models were built for three different subsets of the data. The first model used only demographic and financial information, reflecting analysis that could be performed before a sales strategy was developed or initiated. The demographic/financials model was developed based on the following criteria:\n",
    "\n",
    "    - If they had a housing and/or personal loan\n",
    "    - If they are married\n",
    "    - If they were between the ages of 30 and 60\n",
    "    - If they had less than $1000 in their account\n",
    "    - If they were a housemaid or in the services industry\n",
    "    \n",
    "The demographic/financials model maintained 70\\% accuracy across cross-validation during the model building process and had 64\\% accuracy on a held out subset of the data used to evaluate the final demographic/financials model.  More importantly, the model was built to prioritize identifying likely term deposit subscribers at the expense of additional false leads.  Potential subscribers are identified with a success rate above 10\\% with more than 50\\% of the term deposit subscribers being captured by the model. This model was prioritized to maximize the balance between these rates, with a bias towards increasing the number of term deposit subscribers captured where possible. Depending on subscription targets and sales employee schedules, the model could be adjusted to change these priorities.\n",
    "    \n",
    "#### Demographics, Financials and Contact Model ####\n",
    "\n",
    "Next, we look to enhance the model with contact information, which could be used in sales campaign development to identify best strategies for how to reach out to prospective customers.  This model was based on:\n",
    "\n",
    "    - If they had a housing and/or personal loan\n",
    "    - If they are married\n",
    "    - If they were between the ages of 30 and 60\n",
    "    - If they were contacted in January, July, August or November\n",
    "    - If it was known how they were contacted\n",
    "    - If they were a blue-collar worker\n",
    "\n",
    "In essence, considerations of the balance in their account were dropped in exchange for some information about the contact month or whether the data on whether they were contacted was missing.  An unknown contact type (telephone vs cellular) was present in over 30\\% of the data, with a significantly different conversion rate (3.9\\% vs 7.2\\% telephone and 9.0\\% cellular). There are plausible reasons for this relationship that could be inferred but do to the high frequency of missing data and significant relationship with the success of selling a term deposit, it would be beneficial to invest time and resources to identify this information in future collection efforts.\n",
    "\n",
    "The demographic/financial/contact model improved accuracy to 77\\% in the cross-validation effort and 67\\% on the held out subset of data.  In addition, with the extra contact information, potential subscribers are identified with an approx 12\\% success rate with almost 53\\% of term deposit subscribers being captured by the model.\n",
    "\n",
    "The model suggests a poor relationship between sales of term deposit contracts and the included months (Jan, Jul, Aug, Nov), suggesting that campaigns that run primarily in the summer months (Jul, Aug) or winter months (Nov, Jan) may be less successful than those run in the fall or spring.  The full dataset suggested very high conversion rates in March and October, but these may be anomalous due to very low proportions of that data in the full dataset.  Since the model did not identify them as significant, if additional funding is available, it may be useful to work to identify if those spikes in success rates are significant for those months.\n",
    "\n",
    "The day of the month the customer was contacted also showed spikes in the raw data on the last day of the month (30/31) and first day of the month (1).  Alternate models with these flags included performed similarly to the chosen model, suggesting there may be some success to focusing contact efforts at the very end/very beginning of the month.  These datapoints also suffer from low frequencies in the data and would benefit from additional data focused on better understanding the relationship with customer purchases.\n",
    "\n",
    "#### Full Dataset Model ####\n",
    "\n",
    "Finally, we use all the data provided to build an enhanced model. The additional fields, `duration` and `campaign` contain information about interactions with the client during the sales campaign and thus do not provide information that can be used to initially select customers or design the sales campaign.  However, they can provide insight into rules of thumb for client interaction and guidance for the sales staff.  The full dataset model used information on:\n",
    "\n",
    "    - How long was the last call with the customer\n",
    "    - If they are married\n",
    "    - How old they were\n",
    "    - If they were contacted in January, March or October\n",
    "    - If it was known how they were contacted\n",
    "    \n",
    "The path to building this model took a very different trajectory than the prior two models, with the longer the length of the final call with the customer being a very strong predictor of if that customer subscribed for a term deposit.  This makes sense as a call that results in a subscription will require more time on average than a call where the customer is not interested.  With this in the model, flags such as if the call was made in Oct or Mar, with very small sample sizes were able to contribute to the model, where previously their small proportions in the dataset seemed to limit their inclusion in the model.  \n",
    "\n",
    "The full dataset model improved all the metrics significantly with accuracy over 87\\% in both cross-validation and in the withheld test subset of data.  With the inclusion of the length of the final call, potential subscribers are identified at almost a 1 in 3 rate while the model correctly identifies about 2 in 3 of the subscribers.\n",
    "\n",
    "Duration has a positive relationship with a successful subscription, suggesting the longer the sales team is on the call with a potential client, the more likely they are to succeed in a sale.  By examining the distribution of \n",
    "final call lengths, a general target of around 11.5 minutes is needed to achieve a 50\\% success rate in completing a sale.  This would be a good target passed on to the sales team."
   ]
  },
  {
   "cell_type": "markdown",
   "id": "16d38a6b",
   "metadata": {},
   "source": [
    "## Exploratory Data Analysis ##"
   ]
  },
  {
   "cell_type": "code",
   "execution_count": 778,
   "id": "0c147f4a",
   "metadata": {},
   "outputs": [],
   "source": [
    "# Read in the rawData\n",
    "rawData = pd.read_csv('term-deposit-marketing-2020.csv')\n",
    "\n",
    "# Separate data in independent (features) and dependent (target) datasets\n",
    "features = rawData.copy()\n",
    "target = features.pop('y')"
   ]
  },
  {
   "cell_type": "code",
   "execution_count": 787,
   "id": "57d29a2d",
   "metadata": {},
   "outputs": [
    {
     "data": {
      "image/png": "[encoded data removed]",
      "text/plain": [
       "<Figure size 576x288 with 1 Axes>"
      ]
     },
     "metadata": {
      "needs_background": "light"
     },
     "output_type": "display_data"
    },
    {
     "data": {
      "text/plain": [
       "no     0.9276\n",
       "yes    0.0724\n",
       "Name: y, dtype: float64"
      ]
     },
     "execution_count": 787,
     "metadata": {},
     "output_type": "execute_result"
    }
   ],
   "source": [
    "# Plot response variable\n",
    "plt.rcParams['figure.figsize'] = [8, 4]\n",
    "fig, axs = plt.subplots()\n",
    "ax = sns.histplot(data=rawData, x='y',discrete=True)\n",
    "ax.set_xlabel('Subscribed', fontsize=14)\n",
    "ax.set_ylabel('Frequency', fontsize=14)\n",
    "ax.set_yticks([0, 10000, 20000, 30000, 40000])\n",
    "ax.set_title('Conversion Rate at A Given Duration', fontsize=14)\n",
    "plt.show()\n",
    "\n",
    "# Get unbalanced ratios\n",
    "target.value_counts() / target.count()"
   ]
  },
  {
   "cell_type": "code",
   "execution_count": 797,
   "id": "6ffdf35f",
   "metadata": {},
   "outputs": [
    {
     "data": {
      "image/png": "[encoded data removed]",
      "text/plain": [
       "<Figure size 1008x720 with 10 Axes>"
      ]
     },
     "metadata": {
      "needs_background": "light"
     },
     "output_type": "display_data"
    }
   ],
   "source": [
    "# Plot the feature distributions to look for skewed data/visualize possible outliers\n",
    "plt.rcParams['figure.figsize'] = [14, 10]\n",
    "\n",
    "intCols = np.where(features.dtypes == 'int64')\n",
    "\n",
    "fig, axs = plt.subplots(np.size(intCols),2)\n",
    "cnt = 0\n",
    "for colID in intCols[0]:\n",
    "    rnge = features[features.columns[colID]].max() - features[features.columns[colID]].min()\n",
    "    if (rnge < 100):\n",
    "        sns.histplot(data=features, x=features.columns[colID], ax=axs[cnt,0], discrete=True)\n",
    "    else:\n",
    "        sns.histplot(data=features, x=features.columns[colID], ax=axs[cnt,0])\n",
    "    sns.boxplot(data=features, x=features.columns[colID], ax=axs[cnt,1])\n",
    "    cnt = cnt + 1\n",
    "\n",
    "plt.tight_layout()\n",
    "plt.show()"
   ]
  },
  {
   "cell_type": "code",
   "execution_count": 861,
   "id": "cdfb400b",
   "metadata": {},
   "outputs": [
    {
     "data": {
      "image/png": "[encoded data removed]",
      "text/plain": [
       "<Figure size 1152x576 with 2 Axes>"
      ]
     },
     "metadata": {
      "needs_background": "light"
     },
     "output_type": "display_data"
    }
   ],
   "source": [
    "plt.rcParams['figure.figsize'] = [16, 8]\n",
    "var = 'job'\n",
    "\n",
    "grouped = rawData.groupby(by=['y',var]).count()['age']\n",
    "yes = grouped.loc['yes']\n",
    "no = grouped.loc['no']\n",
    "binned = pd.concat([yes / (yes + no), yes + no], axis=1)\n",
    "binned.columns=['pctYes','total']\n",
    "ax = binned.sort_values(by='pctYes', ascending=False).plot(kind='bar', y=['pctYes','total'], secondary_y=['total'])\n",
    "ax.set(xlabel = 'Job', ylabel = 'Subscription Rate')\n",
    "ax.xaxis.label.set_fontsize(14)\n",
    "ax.yaxis.label.set_fontsize(14)\n",
    "plt.ylim([0,11000])\n",
    "plt.ylabel('Frequency', fontsize=14)\n",
    "plt.title('Subscription Rate and Frequency for Jobs', fontsize=14)\n",
    "plt.show()"
   ]
  },
  {
   "cell_type": "code",
   "execution_count": 872,
   "id": "d676efda",
   "metadata": {},
   "outputs": [
    {
     "data": {
      "image/png": "[encoded data removed]",
      "text/plain": [
       "<Figure size 1152x576 with 2 Axes>"
      ]
     },
     "metadata": {
      "needs_background": "light"
     },
     "output_type": "display_data"
    }
   ],
   "source": [
    "plt.rcParams['figure.figsize'] = [16, 8]\n",
    "var = 'month'\n",
    "\n",
    "grouped = rawData.groupby(by=['y',var]).count()['age']\n",
    "yes = grouped.loc['yes']\n",
    "no = grouped.loc['no']\n",
    "binned = pd.concat([yes / (yes + no), yes + no], axis=1)\n",
    "binned.columns=['pctYes','total']\n",
    "ax = binned.sort_values(by='pctYes', ascending=False).plot(kind='bar', y=['pctYes','total'], secondary_y=['total'])\n",
    "ax.set(xlabel = 'Month', ylabel = 'Subscription Rate')\n",
    "ax.xaxis.label.set_fontsize(14)\n",
    "ax.yaxis.label.set_fontsize(14)\n",
    "plt.ylim([0,15000])\n",
    "plt.ylabel('Frequency', fontsize=14)\n",
    "plt.title('Subscription Rate and Frequency for Months', fontsize=14)\n",
    "plt.show()"
   ]
  },
  {
   "cell_type": "code",
   "execution_count": 867,
   "id": "c1301589",
   "metadata": {},
   "outputs": [
    {
     "data": {
      "image/png": "[encoded data removed]",
      "text/plain": [
       "<Figure size 1152x576 with 2 Axes>"
      ]
     },
     "metadata": {
      "needs_background": "light"
     },
     "output_type": "display_data"
    }
   ],
   "source": [
    "plt.rcParams['figure.figsize'] = [16, 8]\n",
    "var = 'day'\n",
    "\n",
    "grouped = rawData.groupby(by=['y',var]).count()['age']\n",
    "yes = grouped.loc['yes']\n",
    "no = grouped.loc['no']\n",
    "binned = pd.concat([yes / (yes + no), yes + no], axis=1)\n",
    "binned.columns=['pctYes','total']\n",
    "ax = binned.plot(kind='bar', y=['pctYes','total'], secondary_y=['total'])\n",
    "ax.set(xlabel = 'Day', ylabel = 'Subscription Rate')\n",
    "ax.xaxis.label.set_fontsize(14)\n",
    "ax.yaxis.label.set_fontsize(14)\n",
    "plt.ylim([0,3000])\n",
    "plt.ylabel('Frequency', fontsize=14)\n",
    "plt.title('Subscription Rate and Frequency for Days', fontsize=14)\n",
    "plt.show()"
   ]
  },
  {
   "cell_type": "code",
   "execution_count": 878,
   "id": "01b7fa26",
   "metadata": {},
   "outputs": [
    {
     "data": {
      "image/png": "[encoded data removed]",
      "text/plain": [
       "<Figure size 720x432 with 2 Axes>"
      ]
     },
     "metadata": {
      "needs_background": "light"
     },
     "output_type": "display_data"
    }
   ],
   "source": [
    "plt.rcParams['figure.figsize'] = [10, 6]\n",
    "var = 'marital'\n",
    "\n",
    "grouped = rawData.groupby(by=['y',var]).count()['age']\n",
    "yes = grouped.loc['yes']\n",
    "no = grouped.loc['no']\n",
    "binned = pd.concat([yes / (yes + no), yes + no], axis=1)\n",
    "binned.columns=['pctYes','total']\n",
    "ax = binned.sort_values(by='pctYes', ascending=False).plot(kind='bar', y=['pctYes','total'], secondary_y=['total'])\n",
    "ax.set(xlabel = 'Marital Status', ylabel = 'Subscription Rate')\n",
    "ax.xaxis.label.set_fontsize(14)\n",
    "ax.yaxis.label.set_fontsize(14)\n",
    "plt.ylim([0,30000])\n",
    "plt.ylabel('Frequency', fontsize=14)\n",
    "plt.title('Subscription Rate and Frequency for Marital Status', fontsize=14)\n",
    "plt.show()"
   ]
  },
  {
   "cell_type": "code",
   "execution_count": 879,
   "id": "38efb41b",
   "metadata": {},
   "outputs": [
    {
     "data": {
      "image/png": "[encoded data removed]",
      "text/plain": [
       "<Figure size 720x432 with 2 Axes>"
      ]
     },
     "metadata": {
      "needs_background": "light"
     },
     "output_type": "display_data"
    }
   ],
   "source": [
    "plt.rcParams['figure.figsize'] = [10, 6]\n",
    "var = 'contact'\n",
    "\n",
    "grouped = rawData.groupby(by=['y',var]).count()['age']\n",
    "yes = grouped.loc['yes']\n",
    "no = grouped.loc['no']\n",
    "binned = pd.concat([yes / (yes + no), yes + no], axis=1)\n",
    "binned.columns=['pctYes','total']\n",
    "ax = binned.sort_values(by='pctYes', ascending=False).plot(kind='bar', y=['pctYes','total'], secondary_y=['total'])\n",
    "ax.set(xlabel = 'Contact Type', ylabel = 'Subscription Rate')\n",
    "ax.xaxis.label.set_fontsize(14)\n",
    "ax.yaxis.label.set_fontsize(14)\n",
    "plt.ylim([0,30000])\n",
    "plt.ylabel('Frequency', fontsize=14)\n",
    "plt.title('Subscription Rate and Frequency for Contact Type', fontsize=14)\n",
    "plt.show()"
   ]
  },
  {
   "cell_type": "code",
   "execution_count": 880,
   "id": "338dd24d",
   "metadata": {},
   "outputs": [
    {
     "data": {
      "image/png": "[encoded data removed]",
      "text/plain": [
       "<Figure size 720x432 with 2 Axes>"
      ]
     },
     "metadata": {
      "needs_background": "light"
     },
     "output_type": "display_data"
    }
   ],
   "source": [
    "plt.rcParams['figure.figsize'] = [10, 6]\n",
    "var = 'education'\n",
    "\n",
    "grouped = rawData.groupby(by=['y',var]).count()['age']\n",
    "yes = grouped.loc['yes']\n",
    "no = grouped.loc['no']\n",
    "binned = pd.concat([yes / (yes + no), yes + no], axis=1)\n",
    "binned.columns=['pctYes','total']\n",
    "ax = binned.sort_values(by='pctYes', ascending=False).plot(kind='bar', y=['pctYes','total'], secondary_y=['total'])\n",
    "ax.set(xlabel = 'Education Level', ylabel = 'Subscription Rate')\n",
    "ax.xaxis.label.set_fontsize(14)\n",
    "ax.yaxis.label.set_fontsize(14)\n",
    "plt.ylim([0,30000])\n",
    "plt.ylabel('Frequency', fontsize=14)\n",
    "plt.title('Subscription Rate and Frequency for Education Level', fontsize=14)\n",
    "plt.show()"
   ]
  },
  {
   "cell_type": "code",
   "execution_count": 903,
   "id": "94049a0e",
   "metadata": {},
   "outputs": [
    {
     "data": {
      "image/png": "[encoded data removed]",
      "text/plain": [
       "<Figure size 1152x360 with 6 Axes>"
      ]
     },
     "metadata": {
      "needs_background": "light"
     },
     "output_type": "display_data"
    }
   ],
   "source": [
    "# Plot the feature distributions to look for skewed data/visualize possible outliers\n",
    "plt.rcParams['figure.figsize'] = [16, 5]\n",
    "\n",
    "fig, axs = plt.subplots(1,3)\n",
    "\n",
    "var = 'loan'\n",
    "grouped = rawData.groupby(by=['y',var]).count()['age']\n",
    "yes = grouped.loc['yes']\n",
    "no = grouped.loc['no']\n",
    "binned = pd.concat([yes / (yes + no), yes + no], axis=1)\n",
    "binned.columns=['pctYes','total']\n",
    "ax = binned.sort_values(by='pctYes', ascending=False).plot(kind='bar', y=['pctYes','total'], secondary_y=['total'], ax=axs[0])\n",
    "ax.set(xlabel = 'Personal Loan', ylabel = 'Subscription Rate')\n",
    "ax.xaxis.label.set_fontsize(12)\n",
    "ax.yaxis.label.set_fontsize(12)\n",
    "plt.ylim([0,40000])\n",
    "plt.ylabel('Frequency', fontsize=12)\n",
    "#plt.title('Subscription Rate and Frequency for Personal Loan Status', fontsize=14)\n",
    "\n",
    "var = 'housing'\n",
    "grouped = rawData.groupby(by=['y',var]).count()['age']\n",
    "yes = grouped.loc['yes']\n",
    "no = grouped.loc['no']\n",
    "binned = pd.concat([yes / (yes + no), yes + no], axis=1)\n",
    "binned.columns=['pctYes','total']\n",
    "ax = binned.sort_values(by='pctYes', ascending=False).plot(kind='bar', y=['pctYes','total'], secondary_y=['total'], ax=axs[1])\n",
    "ax.set(xlabel = 'Housing Loan', ylabel = 'Subscription Rate')\n",
    "ax.xaxis.label.set_fontsize(12)\n",
    "ax.yaxis.label.set_fontsize(12)\n",
    "plt.ylim([0,40000])\n",
    "plt.ylabel('Frequency', fontsize=12)\n",
    "#plt.title('Subscription Rate and Frequency for Housing Loan Status', fontsize=14)\n",
    "\n",
    "var = 'default'\n",
    "grouped = rawData.groupby(by=['y',var]).count()['age']\n",
    "yes = grouped.loc['yes']\n",
    "no = grouped.loc['no']\n",
    "binned = pd.concat([yes / (yes + no), yes + no], axis=1)\n",
    "binned.columns=['pctYes','total']\n",
    "ax = binned.sort_values(by='pctYes', ascending=False).plot(kind='bar', y=['pctYes','total'], secondary_y=['total'], ax=axs[2])\n",
    "ax.set(xlabel = 'Credit in Default', ylabel = 'Subscription Rate')\n",
    "ax.xaxis.label.set_fontsize(12)\n",
    "ax.yaxis.label.set_fontsize(12)\n",
    "plt.ylim([0,40000])\n",
    "plt.ylabel('Frequency', fontsize=12)\n",
    "plt.suptitle('Subscription Rate and Frequency for Personal Loan, Housing Loan and Default Status', fontsize=14)\n",
    "plt.tight_layout()\n",
    "plt.show()"
   ]
  },
  {
   "cell_type": "code",
   "execution_count": 805,
   "id": "7e2d53e9",
   "metadata": {},
   "outputs": [
    {
     "data": {
      "image/png": "[encoded data removed]",
      "text/plain": [
       "<Figure size 864x576 with 1 Axes>"
      ]
     },
     "metadata": {
      "needs_background": "light"
     },
     "output_type": "display_data"
    }
   ],
   "source": [
    "plt.rcParams['figure.figsize'] = [12, 8]\n",
    "ax = sns.histplot(data=rawData, x='age', hue='y', discrete=True, multiple='fill')\n",
    "ax.set_xlabel('Age', fontsize=14)\n",
    "ax.set_xlim([19,80])\n",
    "ax.set_ylim([0,1.0])\n",
    "ax.set_ylabel('Subscription Conversion Rate', fontsize=14)\n",
    "ax.set_title('Conversion Rate at A Given Age', fontsize=14)\n",
    "ax.get_legend().remove()\n",
    "plt.show()"
   ]
  },
  {
   "cell_type": "code",
   "execution_count": 811,
   "id": "33839880",
   "metadata": {},
   "outputs": [
    {
     "data": {
      "image/png": "[encoded data removed]",
      "text/plain": [
       "<Figure size 864x576 with 1 Axes>"
      ]
     },
     "metadata": {
      "needs_background": "light"
     },
     "output_type": "display_data"
    }
   ],
   "source": [
    "plt.rcParams['figure.figsize'] = [12, 8]\n",
    "ax = sns.histplot(data=rawData, x='balance', hue='y', binwidth=250, multiple='fill')\n",
    "ax.set_xlabel('Balance', fontsize=14)\n",
    "ax.set_xlim([-2000,20000])\n",
    "ax.set_ylim([0,1.0])\n",
    "ax.set_ylabel('Subscription Conversion Rate', fontsize=14)\n",
    "ax.set_title('Conversion Rate at A Given Balance', fontsize=14)\n",
    "ax.get_legend().remove()\n",
    "plt.show()"
   ]
  },
  {
   "cell_type": "code",
   "execution_count": 806,
   "id": "8f09ed26",
   "metadata": {},
   "outputs": [
    {
     "data": {
      "image/png": "[encoded data removed]",
      "text/plain": [
       "<Figure size 864x576 with 1 Axes>"
      ]
     },
     "metadata": {
      "needs_background": "light"
     },
     "output_type": "display_data"
    }
   ],
   "source": [
    "plt.rcParams['figure.figsize'] = [12, 8]\n",
    "ax = sns.histplot(data=rawData, x='duration', hue='y', binwidth=20, multiple='fill')\n",
    "ax.set_xlabel('Duration', fontsize=14)\n",
    "ax.set_xlim([0,2000])\n",
    "ax.set_ylim([0,1.0])\n",
    "ax.set_ylabel('Subscription Conversion Rate', fontsize=14)\n",
    "ax.set_title('Conversion Rate at A Given Duration', fontsize=14)\n",
    "ax.get_legend().remove()\n",
    "plt.show()"
   ]
  },
  {
   "cell_type": "code",
   "execution_count": 796,
   "id": "3d21891d",
   "metadata": {},
   "outputs": [
    {
     "data": {
      "image/png": "[encoded data removed]",
      "text/plain": [
       "<Figure size 720x360 with 1 Axes>"
      ]
     },
     "metadata": {
      "needs_background": "light"
     },
     "output_type": "display_data"
    }
   ],
   "source": [
    "### Converting subscribers larger than various durations\n",
    "arr = []\n",
    "for i in range(0,2000,50):\n",
    "    yval = rawData.loc[rawData.duration > i]['y'].value_counts(normalize=True)['yes']\n",
    "    arr.append([i, yval])\n",
    "    \n",
    "plt.rcParams['figure.figsize'] = [10, 5]\n",
    "ax = sns.lineplot(x=np.asarray(arr)[:, 0], y=np.asarray(arr)[:, 1])\n",
    "ax.set_xlabel('Duration', fontsize=14)\n",
    "ax.set_ylabel('Subscription Conversion Rate', fontsize=14)\n",
    "ax.set_title('Conversion Rate for > Given Duration', fontsize=14)\n",
    "plt.show()"
   ]
  },
  {
   "cell_type": "markdown",
   "id": "aebf49ce",
   "metadata": {},
   "source": [
    "### EDA Summary: \n",
    "- __Unbalanced Binary response variable__ \n",
    "    - Oversampling with SMOTE will probably be important\n",
    "- __Mix of categorical and quantitative__ \n",
    "    - Will need to encode the categorical variables and assess the quantitative ones for normalization/scaling\n",
    "- __Outliers in continuous data, low frequency categories__\n",
    "    - Will need to address lots of outliers, small frequency categories \n",
    "    - Binning may be a good strategy for quantitative features \n",
    "    - Try building model with and without small frequency categories, keep close eye on p-values\n",
    "- __Age__\n",
    "    - Seems to be some improved success rate for those <25 and older than 60, but small sample sizes so need to be careful\n",
    "- __Duration__\n",
    "    - Seems to have a strong relationship with subscription, especially after a few hundred seconds\n",
    "- __Contact__\n",
    "    - Significant number of `Unknown` with a clear bias in those missing values\n",
    "- __Balance__\n",
    "    - Maybe a small uptick in subscription rate for high balances, but may be hard to extract a useful signal\n",
    "- __Housing Loan__\n",
    "    - There may be a slight significant relationship here, but may not be easily extracted\n",
    "- __Month__\n",
    "    - Oct and Mar significant success rate, but extremely low frequency, will need to be careful about models using these columns for significant p-values and convergence success\n",
    "    - No Sept data and a very small amount of Dec data\n",
    "- __Days__\n",
    "    - End of month (30/31) and Beginning of month (1st) show a strong success signal relative to rest of month\n",
    "    - Low frequency of successful columns"
   ]
  },
  {
   "cell_type": "markdown",
   "id": "b004ee7e",
   "metadata": {},
   "source": [
    "## Demographics/Financials Model ##\n",
    "\n",
    "### Preprocess data ###"
   ]
  },
  {
   "cell_type": "code",
   "execution_count": 274,
   "id": "1654816b",
   "metadata": {},
   "outputs": [],
   "source": [
    "# Read in the rawData\n",
    "rawData = pd.read_csv('term-deposit-marketing-2020.csv')\n",
    "\n",
    "# Separate data in independent (features) and dependent (target) datasets\n",
    "features = rawData[['age', 'job', 'marital', 'education', 'default', 'balance', 'housing', 'loan', 'y']].copy()\n",
    "target = features.pop('y')\n",
    "\n",
    "# Replace target 'yes'/'no' with 1/0\n",
    "target.replace({'yes':1,'no':0}, inplace=True)\n",
    "\n",
    "# Split data initially to form a validation and test dataset\n",
    "x_train, x_test, y_train, y_test = train_test_split(features, target, test_size=0.10, random_state=10)\n",
    "\n",
    "# Reset index after train_test_split\n",
    "x_train.reset_index(drop=True, inplace=True)\n",
    "y_train.reset_index(drop=True, inplace=True)\n",
    "x_test.reset_index(drop=True, inplace=True)\n",
    "y_test.reset_index(drop=True, inplace=True)"
   ]
  },
  {
   "cell_type": "code",
   "execution_count": 275,
   "id": "a1470b37",
   "metadata": {},
   "outputs": [],
   "source": [
    "# Replace binary columns with 1/0 and One-Hot Encode categorical columns\n",
    "cols = ['default', 'housing', 'loan', 'marital', 'education', 'job']\n",
    "enc = OneHotEncoder(sparse=False, dtype=int, handle_unknown='error', drop='if_binary')\n",
    "encodedTrain = enc.fit_transform(x_train[cols]) # Fit only on the training data\n",
    "encodedTest = enc.transform(x_test[cols])\n",
    "\n",
    "# Construct encoded names for One-Hot columns\n",
    "encNames = enc.get_feature_names()\n",
    "for index, item in enumerate(encNames):\n",
    "    tmp = item.split('_')[0].split('x')[1]\n",
    "    if (item.split('_')[1] == 'yes'):\n",
    "        encNames[index] = encNames[index].replace('x' + tmp + '_yes', cols[int(tmp)])\n",
    "    else:\n",
    "        encNames[index] = encNames[index].replace('x' + tmp, cols[int(tmp)])\n",
    "\n",
    "encodedTrain = pd.DataFrame(encodedTrain, columns=encNames)\n",
    "encodedTest = pd.DataFrame(encodedTest, columns=encNames)\n",
    "\n",
    "# Merge encoded columns back into the dataset\n",
    "x_train = x_train.drop(columns=cols)\n",
    "x_train = pd.concat([x_train, encodedTrain], axis=1)\n",
    "x_test = x_test.drop(columns=cols)\n",
    "x_test = pd.concat([x_test, encodedTest], axis=1)"
   ]
  },
  {
   "cell_type": "code",
   "execution_count": 277,
   "id": "343b1374",
   "metadata": {},
   "outputs": [],
   "source": [
    "# Bin age to deal with outliers/group similar ranges \n",
    "for dataset in [x_train, x_test, x_train_ov]:    \n",
    "    dataset['<30'] = (dataset['age'] < 30).replace({True:1,False:0})\n",
    "    dataset['30-60'] = ((dataset['age'] >= 30) & (dataset['age'] < 61)).replace({True:1,False:0})\n",
    "    dataset['61+'] = (dataset['age'] >= 61).replace({True:1,False:0})\n",
    "      \n",
    "# Bin balance to deal with outliers/group similar ranges\n",
    "for dataset in [x_train, x_test, x_train_ov]:    \n",
    "    dataset['<1000'] = (dataset['balance'] < 1000).replace({True:1,False:0})\n",
    "    dataset['1000-20000'] = ((dataset['balance'] >= 1000) & (dataset['age'] < 20000)).replace({True:1,False:0})\n",
    "    dataset['>20000'] = (dataset['balance'] >= 20000).replace({True:1,False:0})"
   ]
  },
  {
   "cell_type": "markdown",
   "id": "85a34a2c",
   "metadata": {},
   "source": [
    "### Build Up Model ###"
   ]
  },
  {
   "cell_type": "code",
   "execution_count": 368,
   "id": "ec374fbc",
   "metadata": {},
   "outputs": [
    {
     "name": "stderr",
     "output_type": "stream",
     "text": [
      "/usr/local/anaconda3/lib/python3.7/site-packages/statsmodels/tsa/tsatools.py:130: FutureWarning: In a future version of pandas all arguments of concat except for the argument 'objs' will be keyword-only\n",
      "  x = pd.concat(x[::order], 1)\n"
     ]
    },
    {
     "data": {
      "text/html": [
       "<div>\n",
       "<style scoped>\n",
       "    .dataframe tbody tr th:only-of-type {\n",
       "        vertical-align: middle;\n",
       "    }\n",
       "\n",
       "    .dataframe tbody tr th {\n",
       "        vertical-align: top;\n",
       "    }\n",
       "\n",
       "    .dataframe thead th {\n",
       "        text-align: right;\n",
       "    }\n",
       "</style>\n",
       "<table border=\"1\" class=\"dataframe\">\n",
       "  <thead>\n",
       "    <tr style=\"text-align: right;\">\n",
       "      <th></th>\n",
       "      <th>llf</th>\n",
       "      <th>max_pvalue</th>\n",
       "      <th>aic</th>\n",
       "      <th>bic</th>\n",
       "      <th>recall</th>\n",
       "      <th>precision</th>\n",
       "      <th>f1</th>\n",
       "      <th>accuracy</th>\n",
       "      <th>balanced accuracy</th>\n",
       "    </tr>\n",
       "    <tr>\n",
       "      <th>name</th>\n",
       "      <th></th>\n",
       "      <th></th>\n",
       "      <th></th>\n",
       "      <th></th>\n",
       "      <th></th>\n",
       "      <th></th>\n",
       "      <th></th>\n",
       "      <th></th>\n",
       "      <th></th>\n",
       "    </tr>\n",
       "  </thead>\n",
       "  <tbody>\n",
       "    <tr>\n",
       "      <th>age</th>\n",
       "      <td>-29628.314861</td>\n",
       "      <td>1.168330e-25</td>\n",
       "      <td>59272.629722</td>\n",
       "      <td>59343.720001</td>\n",
       "      <td>0.432397</td>\n",
       "      <td>0.106957</td>\n",
       "      <td>0.171024</td>\n",
       "      <td>0.6965</td>\n",
       "      <td>0.574752</td>\n",
       "    </tr>\n",
       "  </tbody>\n",
       "</table>\n",
       "</div>"
      ],
      "text/plain": [
       "               llf    max_pvalue           aic           bic    recall  \\\n",
       "name                                                                     \n",
       "age  -29628.314861  1.168330e-25  59272.629722  59343.720001  0.432397   \n",
       "\n",
       "      precision        f1  accuracy  balanced accuracy  \n",
       "name                                                    \n",
       "age    0.106957  0.171024    0.6965           0.574752  "
      ]
     },
     "execution_count": 368,
     "metadata": {},
     "output_type": "execute_result"
    }
   ],
   "source": [
    "# Create 5 k-folds for model evaluation\n",
    "kf = KFold(n_splits=5, random_state=30, shuffle=True)\n",
    "\n",
    "# Add constants to the dataset (needed in statsmodels package)\n",
    "x_train = sm.add_constant(x_train)\n",
    "\n",
    "# Create a list to append models evaluation to\n",
    "summaryTab = []\n",
    "\n",
    "# Build-up model process, test each indep variable against response,\n",
    "# choose best performing (ad-hoc process using combination of low AIC/BIC, \n",
    "# p-value and validation set scoring metrics)\n",
    "# Then add that variable and repeat the process with the remaining variables\n",
    "# Stop once the addition of extra variables doesn't add much to the solution (keep model simpler)\n",
    "for col in x_train_ov:\n",
    "    # features chosen in the final model\n",
    "    useCols = ['const', 'marital_married', 'housing', '30-60', 'job_services', \n",
    "               'job_housemaid', '<1000', 'loan']\n",
    "    # features that begin to have convergence issues as the model is developed\n",
    "    skipCols = ['1000-20000'] \n",
    "    if (col in useCols): continue\n",
    "    if (col in skipCols): continue\n",
    "    #useCols.append(col)  ### comment this out when finished\n",
    "    \n",
    "    # Cross-validation loop\n",
    "    cnt = 0\n",
    "    for train_index, valid_index in kf.split(x_train):\n",
    "        cur_x_train, cur_x_valid = x_train.iloc[train_index], x_train.iloc[valid_index]\n",
    "        cur_y_train, cur_y_valid = y_train.iloc[train_index], y_train.iloc[valid_index]\n",
    "        \n",
    "        # Oversample the minority set in the training data\n",
    "        oversample = SMOTE()\n",
    "        x_train_ov, y_train_ov = oversample.fit_resample(cur_x_train, cur_y_train)\n",
    "        \n",
    "        # Train model\n",
    "        logReg = sm.Logit(y_train_ov, x_train_ov[useCols])\n",
    "        result = logReg.fit(disp=False)\n",
    "\n",
    "        # Evaluate model on validation dataset\n",
    "        y_pred = logReg.predict(result.params, exog=cur_x_valid[useCols])\n",
    "    \n",
    "        # Store model evaluation metrics to display below\n",
    "        summaryTab.append([cnt, col, result.pvalues.max(), result.llf, result.aic, result.bic, \n",
    "                       recall_score(cur_y_valid,y_pred.round()),precision_score(cur_y_valid,y_pred.round()),\n",
    "                       f1_score(cur_y_valid,y_pred.round()),accuracy_score(cur_y_valid,y_pred.round()),\n",
    "                       balanced_accuracy_score(cur_y_valid,y_pred.round())])\n",
    "        \n",
    "        # Counter for fold number\n",
    "        cnt = cnt + 1\n",
    "        \n",
    "    break   ### comment this in when finished to build final model\n",
    "    \n",
    "# Create summary table\n",
    "tab = pd.DataFrame(summaryTab, columns=['fold', 'name', 'max_pvalue','llf', 'aic', 'bic', 'recall', \n",
    "                                        'precision', 'f1', 'accuracy', 'balanced accuracy'])\n",
    "\n",
    "# Aggregate results across folds\n",
    "aggs = {'llf': 'mean', 'max_pvalue': 'max', 'aic': 'mean', 'bic': 'mean', 'recall': 'mean', \n",
    "        'precision': 'mean', 'f1': 'mean', 'accuracy': 'mean', 'balanced accuracy': 'mean'}\n",
    "tab = tab.groupby(by='name').agg(aggs)\n",
    "\n",
    "# Display model evaluation results\n",
    "tab.sort_values(by='f1', ascending=False)"
   ]
  },
  {
   "cell_type": "code",
   "execution_count": 466,
   "id": "380b7b59",
   "metadata": {},
   "outputs": [
    {
     "data": {
      "text/html": [
       "<div>\n",
       "<style scoped>\n",
       "    .dataframe tbody tr th:only-of-type {\n",
       "        vertical-align: middle;\n",
       "    }\n",
       "\n",
       "    .dataframe tbody tr th {\n",
       "        vertical-align: top;\n",
       "    }\n",
       "\n",
       "    .dataframe thead th {\n",
       "        text-align: right;\n",
       "    }\n",
       "</style>\n",
       "<table border=\"1\" class=\"dataframe\">\n",
       "  <thead>\n",
       "    <tr style=\"text-align: right;\">\n",
       "      <th></th>\n",
       "      <th>llf</th>\n",
       "      <th>max_pvalue</th>\n",
       "      <th>aic</th>\n",
       "      <th>bic</th>\n",
       "      <th>recall</th>\n",
       "      <th>precision</th>\n",
       "      <th>f1</th>\n",
       "      <th>accuracy</th>\n",
       "      <th>balanced accuracy</th>\n",
       "      <th>seq</th>\n",
       "    </tr>\n",
       "  </thead>\n",
       "  <tbody>\n",
       "    <tr>\n",
       "      <th>marital_married</th>\n",
       "      <td>-34434.984184</td>\n",
       "      <td>0.000000e+00</td>\n",
       "      <td>68873.968367</td>\n",
       "      <td>68891.740937</td>\n",
       "      <td>0.491997</td>\n",
       "      <td>0.091091</td>\n",
       "      <td>0.153711</td>\n",
       "      <td>0.608472</td>\n",
       "      <td>0.554766</td>\n",
       "      <td>1.0</td>\n",
       "    </tr>\n",
       "    <tr>\n",
       "      <th>housing</th>\n",
       "      <td>-32199.143496</td>\n",
       "      <td>0.000000e+00</td>\n",
       "      <td>64404.286991</td>\n",
       "      <td>64430.945845</td>\n",
       "      <td>0.238897</td>\n",
       "      <td>0.110557</td>\n",
       "      <td>0.151134</td>\n",
       "      <td>0.806250</td>\n",
       "      <td>0.544656</td>\n",
       "      <td>2.0</td>\n",
       "    </tr>\n",
       "    <tr>\n",
       "      <th>job_services</th>\n",
       "      <td>-31184.091735</td>\n",
       "      <td>1.282110e-157</td>\n",
       "      <td>62378.183470</td>\n",
       "      <td>62422.614894</td>\n",
       "      <td>0.311968</td>\n",
       "      <td>0.114601</td>\n",
       "      <td>0.167606</td>\n",
       "      <td>0.776222</td>\n",
       "      <td>0.562164</td>\n",
       "      <td>4.0</td>\n",
       "    </tr>\n",
       "    <tr>\n",
       "      <th>30-60</th>\n",
       "      <td>-31810.314033</td>\n",
       "      <td>1.670610e-139</td>\n",
       "      <td>63628.628066</td>\n",
       "      <td>63664.173206</td>\n",
       "      <td>0.330004</td>\n",
       "      <td>0.111489</td>\n",
       "      <td>0.166647</td>\n",
       "      <td>0.761583</td>\n",
       "      <td>0.562589</td>\n",
       "      <td>3.0</td>\n",
       "    </tr>\n",
       "    <tr>\n",
       "      <th>job_housemaid</th>\n",
       "      <td>-30827.322601</td>\n",
       "      <td>2.727512e-72</td>\n",
       "      <td>61666.645203</td>\n",
       "      <td>61719.962912</td>\n",
       "      <td>0.306596</td>\n",
       "      <td>0.116264</td>\n",
       "      <td>0.168568</td>\n",
       "      <td>0.781611</td>\n",
       "      <td>0.562591</td>\n",
       "      <td>5.0</td>\n",
       "    </tr>\n",
       "    <tr>\n",
       "      <th>&lt;1000</th>\n",
       "      <td>-30678.157565</td>\n",
       "      <td>4.036027e-50</td>\n",
       "      <td>61370.315129</td>\n",
       "      <td>61432.519123</td>\n",
       "      <td>0.453228</td>\n",
       "      <td>0.104867</td>\n",
       "      <td>0.170317</td>\n",
       "      <td>0.681028</td>\n",
       "      <td>0.575994</td>\n",
       "      <td>6.0</td>\n",
       "    </tr>\n",
       "    <tr>\n",
       "      <th>loan</th>\n",
       "      <td>-29673.228205</td>\n",
       "      <td>5.652163e-27</td>\n",
       "      <td>59362.456411</td>\n",
       "      <td>59433.546689</td>\n",
       "      <td>0.431644</td>\n",
       "      <td>0.107042</td>\n",
       "      <td>0.171059</td>\n",
       "      <td>0.697111</td>\n",
       "      <td>0.574735</td>\n",
       "      <td>7.0</td>\n",
       "    </tr>\n",
       "  </tbody>\n",
       "</table>\n",
       "</div>"
      ],
      "text/plain": [
       "                          llf     max_pvalue           aic           bic  \\\n",
       "marital_married -34434.984184   0.000000e+00  68873.968367  68891.740937   \n",
       "housing         -32199.143496   0.000000e+00  64404.286991  64430.945845   \n",
       "job_services    -31184.091735  1.282110e-157  62378.183470  62422.614894   \n",
       "30-60           -31810.314033  1.670610e-139  63628.628066  63664.173206   \n",
       "job_housemaid   -30827.322601   2.727512e-72  61666.645203  61719.962912   \n",
       "<1000           -30678.157565   4.036027e-50  61370.315129  61432.519123   \n",
       "loan            -29673.228205   5.652163e-27  59362.456411  59433.546689   \n",
       "\n",
       "                   recall  precision        f1  accuracy  balanced accuracy  \\\n",
       "marital_married  0.491997   0.091091  0.153711  0.608472           0.554766   \n",
       "housing          0.238897   0.110557  0.151134  0.806250           0.544656   \n",
       "job_services     0.311968   0.114601  0.167606  0.776222           0.562164   \n",
       "30-60            0.330004   0.111489  0.166647  0.761583           0.562589   \n",
       "job_housemaid    0.306596   0.116264  0.168568  0.781611           0.562591   \n",
       "<1000            0.453228   0.104867  0.170317  0.681028           0.575994   \n",
       "loan             0.431644   0.107042  0.171059  0.697111           0.574735   \n",
       "\n",
       "                 seq  \n",
       "marital_married  1.0  \n",
       "housing          2.0  \n",
       "job_services     4.0  \n",
       "30-60            3.0  \n",
       "job_housemaid    5.0  \n",
       "<1000            6.0  \n",
       "loan             7.0  "
      ]
     },
     "execution_count": 466,
     "metadata": {},
     "output_type": "execute_result"
    }
   ],
   "source": [
    "# Build up model sequence summary (seq column tells order in which feature was added)\n",
    "demogFinanModel = pickle.load(open('demoFinaModel.p','rb'))\n",
    "demogFinanModel"
   ]
  },
  {
   "cell_type": "markdown",
   "id": "abdb2b7d",
   "metadata": {},
   "source": [
    "### Evaluate model on test data ###"
   ]
  },
  {
   "cell_type": "code",
   "execution_count": 390,
   "id": "084260f9",
   "metadata": {},
   "outputs": [
    {
     "name": "stdout",
     "output_type": "stream",
     "text": [
      "Recall: 0.5152542372881356\n",
      "Precision: 0.10475534114403859\n",
      "F1: 0.17411225658648338\n",
      "Accuracy: 0.6395\n"
     ]
    },
    {
     "name": "stderr",
     "output_type": "stream",
     "text": [
      "/usr/local/anaconda3/lib/python3.7/site-packages/statsmodels/tsa/tsatools.py:130: FutureWarning: In a future version of pandas all arguments of concat except for the argument 'objs' will be keyword-only\n",
      "  x = pd.concat(x[::order], 1)\n"
     ]
    }
   ],
   "source": [
    "finalCols = ['const', 'marital_married', 'housing', '30-60', 'job_services', 'job_housemaid', '<1000', 'loan']\n",
    "\n",
    "# Build final model\n",
    "oversample = SMOTE()\n",
    "x_train_ov, y_train_ov = oversample.fit_resample(x_train[finalCols], y_train)\n",
    "logReg = sm.Logit(y_train_ov, x_train_ov)\n",
    "result = logReg.fit(disp=False)\n",
    "\n",
    "# Evaluate model on test dataset\n",
    "x_test = sm.add_constant(x_test)\n",
    "y_pred = logReg.predict(result.params, exog=x_test[finalCols])\n",
    "\n",
    "print ('Recall:', recall_score(y_test,y_pred.round()))\n",
    "print ('Precision:', precision_score(y_test,y_pred.round()))\n",
    "print ('F1:', f1_score(y_test,y_pred.round()))\n",
    "print ('Accuracy:', accuracy_score(y_test,y_pred.round()))"
   ]
  },
  {
   "cell_type": "code",
   "execution_count": 419,
   "id": "fca24d87",
   "metadata": {},
   "outputs": [
    {
     "data": {
      "image/png": "[encoded data removed]",
      "text/plain": [
       "<Figure size 1008x720 with 2 Axes>"
      ]
     },
     "metadata": {
      "needs_background": "light"
     },
     "output_type": "display_data"
    }
   ],
   "source": [
    "# Plot confusion matrix for test data\n",
    "cm = confusion_matrix(y_test, y_pred.round())\n",
    "ax = ConfusionMatrixDisplay(cm, display_labels=['yes','no']).plot()\n",
    "ax.ax_.set_xlabel('Model Predictions', fontsize=14)\n",
    "ax.ax_.set_ylabel('True Response', fontsize=14)\n",
    "plt.show()"
   ]
  },
  {
   "cell_type": "markdown",
   "id": "24d1843c",
   "metadata": {},
   "source": [
    "## Demographics/Financials/Contact Model ##\n",
    "\n",
    "### Preprocess data ###"
   ]
  },
  {
   "cell_type": "code",
   "execution_count": 592,
   "id": "4d2c96f0",
   "metadata": {},
   "outputs": [],
   "source": [
    "# Read in the rawData\n",
    "rawData = pd.read_csv('term-deposit-marketing-2020.csv')\n",
    "\n",
    "# Separate data in independent (features) and dependent (target) datasets\n",
    "features = rawData[['age', 'job', 'marital', 'education', 'default', 'balance', 'housing', 'loan', \n",
    "                    'contact', 'day', 'month', 'y']].copy()\n",
    "target = features.pop('y')\n",
    "\n",
    "# Replace target 'yes'/'no' with 1/0\n",
    "target.replace({'yes':1,'no':0}, inplace=True)\n",
    "\n",
    "# Split data initially to form a validation and test dataset\n",
    "x_train, x_test, y_train, y_test = train_test_split(features, target, test_size=0.10, random_state=100)\n",
    "\n",
    "# Reset index after train_test_split\n",
    "x_train.reset_index(drop=True, inplace=True)\n",
    "y_train.reset_index(drop=True, inplace=True)\n",
    "x_test.reset_index(drop=True, inplace=True)\n",
    "y_test.reset_index(drop=True, inplace=True)"
   ]
  },
  {
   "cell_type": "code",
   "execution_count": 593,
   "id": "3726e6a2",
   "metadata": {},
   "outputs": [],
   "source": [
    "# Replace binary columns with 1/0 and One-Hot Encode categorical columns\n",
    "cols = ['default', 'housing', 'loan', 'marital', 'education', 'job', 'contact', 'month', 'day']\n",
    "enc = OneHotEncoder(sparse=False, dtype=int, handle_unknown='error', drop='if_binary')\n",
    "encodedTrain = enc.fit_transform(x_train[cols]) # Fit only on the training data\n",
    "encodedTest = enc.transform(x_test[cols])\n",
    "\n",
    "# Construct encoded names for One-Hot columns\n",
    "encNames = enc.get_feature_names()\n",
    "for index, item in enumerate(encNames):\n",
    "    tmp = item.split('_')[0].split('x')[1]\n",
    "    if (item.split('_')[1] == 'yes'):\n",
    "        encNames[index] = encNames[index].replace('x' + tmp + '_yes', cols[int(tmp)])\n",
    "    else:\n",
    "        encNames[index] = encNames[index].replace('x' + tmp, cols[int(tmp)])\n",
    "\n",
    "encodedTrain = pd.DataFrame(encodedTrain, columns=encNames)\n",
    "encodedTest = pd.DataFrame(encodedTest, columns=encNames)\n",
    "\n",
    "# Merge encoded columns back into the dataset\n",
    "x_train = x_train.drop(columns=cols)\n",
    "x_train = pd.concat([x_train, encodedTrain], axis=1)\n",
    "x_test = x_test.drop(columns=cols)\n",
    "x_test = pd.concat([x_test, encodedTest], axis=1)"
   ]
  },
  {
   "cell_type": "code",
   "execution_count": 595,
   "id": "fe7b12e1",
   "metadata": {},
   "outputs": [],
   "source": [
    "# Bin age to deal with outliers/group similar ranges \n",
    "for dataset in [x_train, x_test]:    \n",
    "    dataset['<30'] = (dataset['age'] < 30).replace({True:1,False:0})\n",
    "    dataset['30-60'] = ((dataset['age'] >= 30) & (dataset['age'] < 61)).replace({True:1,False:0})\n",
    "    dataset['61+'] = (dataset['age'] >= 61).replace({True:1,False:0})\n",
    "\n",
    "# Bin balance to deal with outliers/group similar ranges\n",
    "for dataset in [x_train, x_test]:    \n",
    "    dataset['<1000'] = (dataset['balance'] < 1000).replace({True:1,False:0})\n",
    "    dataset['1000-20000'] = ((dataset['balance'] >= 1000) & (dataset['age'] < 20000)).replace({True:1,False:0})\n",
    "    dataset['>20000'] = (dataset['balance'] >= 20000).replace({True:1,False:0})\n",
    "    \n",
    "# Bin day to deal with outliers/group similar ranges\n",
    "#for dataset in [x_train, x_test]:    \n",
    "#    dataset['BegMonth'] = (dataset['day'] < 5).replace({True:1,False:0})\n",
    "#    dataset['MidMonth'] = ((dataset['day'] >= 5) & (dataset['day'] < 30)).replace({True:1,False:0})\n",
    "#    dataset['LastDayMonth'] = (dataset['day'] >= 30).replace({True:1,False:0})"
   ]
  },
  {
   "cell_type": "markdown",
   "id": "8b03d4bd",
   "metadata": {},
   "source": [
    "### Build Up Model ###"
   ]
  },
  {
   "cell_type": "code",
   "execution_count": 596,
   "id": "4733ea63",
   "metadata": {},
   "outputs": [
    {
     "name": "stderr",
     "output_type": "stream",
     "text": [
      "/usr/local/anaconda3/lib/python3.7/site-packages/statsmodels/tsa/tsatools.py:130: FutureWarning: In a future version of pandas all arguments of concat except for the argument 'objs' will be keyword-only\n",
      "  x = pd.concat(x[::order], 1)\n"
     ]
    },
    {
     "data": {
      "text/html": [
       "<div>\n",
       "<style scoped>\n",
       "    .dataframe tbody tr th:only-of-type {\n",
       "        vertical-align: middle;\n",
       "    }\n",
       "\n",
       "    .dataframe tbody tr th {\n",
       "        vertical-align: top;\n",
       "    }\n",
       "\n",
       "    .dataframe thead th {\n",
       "        text-align: right;\n",
       "    }\n",
       "</style>\n",
       "<table border=\"1\" class=\"dataframe\">\n",
       "  <thead>\n",
       "    <tr style=\"text-align: right;\">\n",
       "      <th></th>\n",
       "      <th>llf</th>\n",
       "      <th>max_pvalue</th>\n",
       "      <th>aic</th>\n",
       "      <th>bic</th>\n",
       "      <th>recall</th>\n",
       "      <th>precision</th>\n",
       "      <th>f1</th>\n",
       "      <th>accuracy</th>\n",
       "      <th>balanced accuracy</th>\n",
       "    </tr>\n",
       "    <tr>\n",
       "      <th>name</th>\n",
       "      <th></th>\n",
       "      <th></th>\n",
       "      <th></th>\n",
       "      <th></th>\n",
       "      <th></th>\n",
       "      <th></th>\n",
       "      <th></th>\n",
       "      <th></th>\n",
       "      <th></th>\n",
       "    </tr>\n",
       "  </thead>\n",
       "  <tbody>\n",
       "    <tr>\n",
       "      <th>age</th>\n",
       "      <td>-21460.723921</td>\n",
       "      <td>1.575060e-12</td>\n",
       "      <td>42941.447842</td>\n",
       "      <td>43030.309492</td>\n",
       "      <td>0.466627</td>\n",
       "      <td>0.152258</td>\n",
       "      <td>0.229568</td>\n",
       "      <td>0.773583</td>\n",
       "      <td>0.632083</td>\n",
       "    </tr>\n",
       "  </tbody>\n",
       "</table>\n",
       "</div>"
      ],
      "text/plain": [
       "               llf    max_pvalue           aic           bic    recall  \\\n",
       "name                                                                     \n",
       "age  -21460.723921  1.575060e-12  42941.447842  43030.309492  0.466627   \n",
       "\n",
       "      precision        f1  accuracy  balanced accuracy  \n",
       "name                                                    \n",
       "age    0.152258  0.229568  0.773583           0.632083  "
      ]
     },
     "execution_count": 596,
     "metadata": {},
     "output_type": "execute_result"
    }
   ],
   "source": [
    "# Create 5 k-folds for model evaluation\n",
    "kf = KFold(n_splits=5, random_state=30, shuffle=True)\n",
    "\n",
    "# Add constants to the dataset (needed in statsmodels package)\n",
    "x_train = sm.add_constant(x_train)\n",
    "\n",
    "# Create a list to append models evaluation to\n",
    "summaryTab = []\n",
    "\n",
    "# Build-up model process, test each indep variable against response,\n",
    "# choose best performing (ad-hoc process using combination of low AIC/BIC, \n",
    "# p-value and validation set scoring metrics)\n",
    "# Then add that variable and repeat the process with the remaining variables\n",
    "# Stop once the addition of extra variables doesn't add much to the solution (keep model simpler)\n",
    "for col in x_train:\n",
    "    # features chosen in the final model\n",
    "    useCols = ['const', 'contact_unknown', 'marital_married', 'month_aug', 'housing', 'month_jul',\n",
    "               'month_nov', 'job_blue-collar', 'month_jan', '30-60']\n",
    "    # features that begin to have convergence issues as the model is developed\n",
    "    skipCols = ['month_dec'] \n",
    "    if (col in useCols): continue\n",
    "    if (col in skipCols): continue\n",
    "    #useCols.append(col)  ### comment this out when finished\n",
    "    \n",
    "    # Cross-validation loop\n",
    "    cnt = 0\n",
    "    for train_index, valid_index in kf.split(x_train):\n",
    "        cur_x_train, cur_x_valid = x_train.iloc[train_index], x_train.iloc[valid_index]\n",
    "        cur_y_train, cur_y_valid = y_train.iloc[train_index], y_train.iloc[valid_index]\n",
    "        \n",
    "        # Oversample the minority set in the training data\n",
    "        oversample = SMOTE()\n",
    "        x_train_ov, y_train_ov = oversample.fit_resample(cur_x_train, cur_y_train)\n",
    "        \n",
    "        # Train model\n",
    "        logReg = sm.Logit(y_train_ov, x_train_ov[useCols])\n",
    "        result = logReg.fit(disp=False)\n",
    "\n",
    "        # Evaluate model on validation dataset\n",
    "        y_pred = logReg.predict(result.params, exog=cur_x_valid[useCols])\n",
    "    \n",
    "        # Store model evaluation metrics to display below\n",
    "        summaryTab.append([cnt, col, result.pvalues.max(), result.llf, result.aic, result.bic, \n",
    "                       recall_score(cur_y_valid,y_pred.round()),precision_score(cur_y_valid,y_pred.round()),\n",
    "                       f1_score(cur_y_valid,y_pred.round()),accuracy_score(cur_y_valid,y_pred.round()),\n",
    "                       balanced_accuracy_score(cur_y_valid,y_pred.round())])\n",
    "        \n",
    "        # Counter for fold number\n",
    "        cnt = cnt + 1\n",
    "        \n",
    "    break   ### comment this in when finished to build final model\n",
    "    \n",
    "# Create summary table\n",
    "tab = pd.DataFrame(summaryTab, columns=['fold', 'name', 'max_pvalue','llf', 'aic', 'bic', 'recall', \n",
    "                                        'precision', 'f1', 'accuracy', 'balanced accuracy'])\n",
    "\n",
    "# Aggregate results across folds\n",
    "aggs = {'llf': 'mean', 'max_pvalue': 'max', 'aic': 'mean', 'bic': 'mean', 'recall': 'mean', \n",
    "        'precision': 'mean', 'f1': 'mean', 'accuracy': 'mean', 'balanced accuracy': 'mean'}\n",
    "tab = tab.groupby(by='name').agg(aggs)\n",
    "\n",
    "# Display model evaluation results\n",
    "tab.sort_values(by='aic', ascending=True)"
   ]
  },
  {
   "cell_type": "code",
   "execution_count": 538,
   "id": "43f51895",
   "metadata": {},
   "outputs": [
    {
     "data": {
      "text/html": [
       "<div>\n",
       "<style scoped>\n",
       "    .dataframe tbody tr th:only-of-type {\n",
       "        vertical-align: middle;\n",
       "    }\n",
       "\n",
       "    .dataframe tbody tr th {\n",
       "        vertical-align: top;\n",
       "    }\n",
       "\n",
       "    .dataframe thead th {\n",
       "        text-align: right;\n",
       "    }\n",
       "</style>\n",
       "<table border=\"1\" class=\"dataframe\">\n",
       "  <thead>\n",
       "    <tr style=\"text-align: right;\">\n",
       "      <th></th>\n",
       "      <th>llf</th>\n",
       "      <th>max_pvalue</th>\n",
       "      <th>aic</th>\n",
       "      <th>bic</th>\n",
       "      <th>recall</th>\n",
       "      <th>precision</th>\n",
       "      <th>f1</th>\n",
       "      <th>accuracy</th>\n",
       "      <th>balanced accuracy</th>\n",
       "      <th>seq</th>\n",
       "    </tr>\n",
       "  </thead>\n",
       "  <tbody>\n",
       "    <tr>\n",
       "      <th>contact_unknown</th>\n",
       "      <td>-33046.693564</td>\n",
       "      <td>1.516519e-283</td>\n",
       "      <td>66097.387128</td>\n",
       "      <td>66115.159458</td>\n",
       "      <td>0.831885</td>\n",
       "      <td>0.088391</td>\n",
       "      <td>0.159791</td>\n",
       "      <td>0.366972</td>\n",
       "      <td>0.581299</td>\n",
       "      <td>1.0</td>\n",
       "    </tr>\n",
       "    <tr>\n",
       "      <th>marital_married</th>\n",
       "      <td>-30758.859288</td>\n",
       "      <td>0.000000e+00</td>\n",
       "      <td>61523.718575</td>\n",
       "      <td>61550.377070</td>\n",
       "      <td>0.408030</td>\n",
       "      <td>0.109543</td>\n",
       "      <td>0.172690</td>\n",
       "      <td>0.717306</td>\n",
       "      <td>0.574744</td>\n",
       "      <td>2.0</td>\n",
       "    </tr>\n",
       "    <tr>\n",
       "      <th>month_aug</th>\n",
       "      <td>-29110.725282</td>\n",
       "      <td>0.000000e+00</td>\n",
       "      <td>58229.450565</td>\n",
       "      <td>58264.995225</td>\n",
       "      <td>0.370174</td>\n",
       "      <td>0.117522</td>\n",
       "      <td>0.178363</td>\n",
       "      <td>0.753500</td>\n",
       "      <td>0.576808</td>\n",
       "      <td>3.0</td>\n",
       "    </tr>\n",
       "    <tr>\n",
       "      <th>housing</th>\n",
       "      <td>-27130.715376</td>\n",
       "      <td>0.000000e+00</td>\n",
       "      <td>54271.430751</td>\n",
       "      <td>54315.861576</td>\n",
       "      <td>0.541919</td>\n",
       "      <td>0.115419</td>\n",
       "      <td>0.190282</td>\n",
       "      <td>0.666417</td>\n",
       "      <td>0.609035</td>\n",
       "      <td>4.0</td>\n",
       "    </tr>\n",
       "    <tr>\n",
       "      <th>month_jul</th>\n",
       "      <td>-24824.836196</td>\n",
       "      <td>0.000000e+00</td>\n",
       "      <td>49661.672392</td>\n",
       "      <td>49714.989381</td>\n",
       "      <td>0.452725</td>\n",
       "      <td>0.135528</td>\n",
       "      <td>0.208569</td>\n",
       "      <td>0.751528</td>\n",
       "      <td>0.613785</td>\n",
       "      <td>5.0</td>\n",
       "    </tr>\n",
       "    <tr>\n",
       "      <th>month_nov</th>\n",
       "      <td>-23116.351165</td>\n",
       "      <td>0.000000e+00</td>\n",
       "      <td>46246.702330</td>\n",
       "      <td>46308.905484</td>\n",
       "      <td>0.403230</td>\n",
       "      <td>0.155629</td>\n",
       "      <td>0.224549</td>\n",
       "      <td>0.798611</td>\n",
       "      <td>0.616347</td>\n",
       "      <td>6.0</td>\n",
       "    </tr>\n",
       "    <tr>\n",
       "      <th>job_blue-collar</th>\n",
       "      <td>-22497.100071</td>\n",
       "      <td>2.441480e-193</td>\n",
       "      <td>45010.200142</td>\n",
       "      <td>45081.289462</td>\n",
       "      <td>0.416828</td>\n",
       "      <td>0.154877</td>\n",
       "      <td>0.224315</td>\n",
       "      <td>0.789778</td>\n",
       "      <td>0.617841</td>\n",
       "      <td>7.0</td>\n",
       "    </tr>\n",
       "    <tr>\n",
       "      <th>month_jan</th>\n",
       "      <td>-21398.353592</td>\n",
       "      <td>3.013828e-126</td>\n",
       "      <td>42814.707185</td>\n",
       "      <td>42894.682669</td>\n",
       "      <td>0.457009</td>\n",
       "      <td>0.152909</td>\n",
       "      <td>0.229125</td>\n",
       "      <td>0.777667</td>\n",
       "      <td>0.629849</td>\n",
       "      <td>8.0</td>\n",
       "    </tr>\n",
       "    <tr>\n",
       "      <th>30-60</th>\n",
       "      <td>-21350.510018</td>\n",
       "      <td>7.362367e-23</td>\n",
       "      <td>42721.020035</td>\n",
       "      <td>42809.881685</td>\n",
       "      <td>0.466992</td>\n",
       "      <td>0.151364</td>\n",
       "      <td>0.228595</td>\n",
       "      <td>0.772056</td>\n",
       "      <td>0.631426</td>\n",
       "      <td>9.0</td>\n",
       "    </tr>\n",
       "  </tbody>\n",
       "</table>\n",
       "</div>"
      ],
      "text/plain": [
       "                          llf     max_pvalue           aic           bic  \\\n",
       "contact_unknown -33046.693564  1.516519e-283  66097.387128  66115.159458   \n",
       "marital_married -30758.859288   0.000000e+00  61523.718575  61550.377070   \n",
       "month_aug       -29110.725282   0.000000e+00  58229.450565  58264.995225   \n",
       "housing         -27130.715376   0.000000e+00  54271.430751  54315.861576   \n",
       "month_jul       -24824.836196   0.000000e+00  49661.672392  49714.989381   \n",
       "month_nov       -23116.351165   0.000000e+00  46246.702330  46308.905484   \n",
       "job_blue-collar -22497.100071  2.441480e-193  45010.200142  45081.289462   \n",
       "month_jan       -21398.353592  3.013828e-126  42814.707185  42894.682669   \n",
       "30-60           -21350.510018   7.362367e-23  42721.020035  42809.881685   \n",
       "\n",
       "                   recall  precision        f1  accuracy  balanced accuracy  \\\n",
       "contact_unknown  0.831885   0.088391  0.159791  0.366972           0.581299   \n",
       "marital_married  0.408030   0.109543  0.172690  0.717306           0.574744   \n",
       "month_aug        0.370174   0.117522  0.178363  0.753500           0.576808   \n",
       "housing          0.541919   0.115419  0.190282  0.666417           0.609035   \n",
       "month_jul        0.452725   0.135528  0.208569  0.751528           0.613785   \n",
       "month_nov        0.403230   0.155629  0.224549  0.798611           0.616347   \n",
       "job_blue-collar  0.416828   0.154877  0.224315  0.789778           0.617841   \n",
       "month_jan        0.457009   0.152909  0.229125  0.777667           0.629849   \n",
       "30-60            0.466992   0.151364  0.228595  0.772056           0.631426   \n",
       "\n",
       "                 seq  \n",
       "contact_unknown  1.0  \n",
       "marital_married  2.0  \n",
       "month_aug        3.0  \n",
       "housing          4.0  \n",
       "month_jul        5.0  \n",
       "month_nov        6.0  \n",
       "job_blue-collar  7.0  \n",
       "month_jan        8.0  \n",
       "30-60            9.0  "
      ]
     },
     "execution_count": 538,
     "metadata": {},
     "output_type": "execute_result"
    }
   ],
   "source": [
    "# Build up model sequence summary (seq column tells order in which feature was added)\n",
    "demogFinanContModel = pickle.load(open('demoFinaContModel.p','rb'))\n",
    "demogFinanContModel.sort_values(by='seq')"
   ]
  },
  {
   "cell_type": "markdown",
   "id": "6d50c5c5",
   "metadata": {},
   "source": [
    "### Evaluate model on test data ###"
   ]
  },
  {
   "cell_type": "code",
   "execution_count": 540,
   "id": "812665d3",
   "metadata": {},
   "outputs": [
    {
     "name": "stdout",
     "output_type": "stream",
     "text": [
      "Recall: 0.5292096219931272\n",
      "Precision: 0.11684370257966616\n",
      "F1: 0.19142324425108764\n",
      "Accuracy: 0.67475\n"
     ]
    },
    {
     "name": "stderr",
     "output_type": "stream",
     "text": [
      "/usr/local/anaconda3/lib/python3.7/site-packages/statsmodels/tsa/tsatools.py:130: FutureWarning: In a future version of pandas all arguments of concat except for the argument 'objs' will be keyword-only\n",
      "  x = pd.concat(x[::order], 1)\n"
     ]
    }
   ],
   "source": [
    "finalCols = ['const', 'contact_unknown', 'marital_married', 'month_aug', 'housing', 'month_jul',\n",
    "            'month_nov', 'job_blue-collar', 'month_jan', '30-60']\n",
    "\n",
    "# Build final model\n",
    "oversample = SMOTE()\n",
    "x_train_ov, y_train_ov = oversample.fit_resample(x_train[finalCols], y_train)\n",
    "logReg = sm.Logit(y_train_ov, x_train_ov)\n",
    "result = logReg.fit(disp=False)\n",
    "\n",
    "# Evaluate model on test dataset\n",
    "x_test = sm.add_constant(x_test)\n",
    "y_pred = logReg.predict(result.params, exog=x_test[finalCols])\n",
    "\n",
    "print ('Recall:', recall_score(y_test,y_pred.round()))\n",
    "print ('Precision:', precision_score(y_test,y_pred.round()))\n",
    "print ('F1:', f1_score(y_test,y_pred.round()))\n",
    "print ('Accuracy:', accuracy_score(y_test,y_pred.round()))"
   ]
  },
  {
   "cell_type": "code",
   "execution_count": 541,
   "id": "ecc995b5",
   "metadata": {},
   "outputs": [
    {
     "data": {
      "image/png": "[encoded data removed]",
      "text/plain": [
       "<Figure size 1008x720 with 2 Axes>"
      ]
     },
     "metadata": {
      "needs_background": "light"
     },
     "output_type": "display_data"
    }
   ],
   "source": [
    "# Plot confusion matrix for test data\n",
    "cm = confusion_matrix(y_test, y_pred.round())\n",
    "ax = ConfusionMatrixDisplay(cm, display_labels=['yes','no']).plot()\n",
    "ax.ax_.set_xlabel('Model Predictions', fontsize=14)\n",
    "ax.ax_.set_ylabel('True Response', fontsize=14)\n",
    "plt.show()"
   ]
  },
  {
   "cell_type": "code",
   "execution_count": 543,
   "id": "af3b3e44",
   "metadata": {},
   "outputs": [
    {
     "data": {
      "text/html": [
       "<table class=\"simpletable\">\n",
       "<caption>Logit Regression Results</caption>\n",
       "<tr>\n",
       "  <th>Dep. Variable:</th>           <td>y</td>        <th>  No. Observations:  </th>  <td> 66790</td> \n",
       "</tr>\n",
       "<tr>\n",
       "  <th>Model:</th>                 <td>Logit</td>      <th>  Df Residuals:      </th>  <td> 66780</td> \n",
       "</tr>\n",
       "<tr>\n",
       "  <th>Method:</th>                 <td>MLE</td>       <th>  Df Model:          </th>  <td>     9</td> \n",
       "</tr>\n",
       "<tr>\n",
       "  <th>Date:</th>            <td>Thu, 25 Aug 2022</td> <th>  Pseudo R-squ.:     </th>  <td>0.07907</td>\n",
       "</tr>\n",
       "<tr>\n",
       "  <th>Time:</th>                <td>16:17:18</td>     <th>  Log-Likelihood:    </th> <td> -42635.</td>\n",
       "</tr>\n",
       "<tr>\n",
       "  <th>converged:</th>             <td>True</td>       <th>  LL-Null:           </th> <td> -46295.</td>\n",
       "</tr>\n",
       "<tr>\n",
       "  <th>Covariance Type:</th>     <td>nonrobust</td>    <th>  LLR p-value:       </th>  <td> 0.000</td> \n",
       "</tr>\n",
       "</table>\n",
       "<table class=\"simpletable\">\n",
       "<tr>\n",
       "         <td></td>            <th>coef</th>     <th>std err</th>      <th>z</th>      <th>P>|z|</th>  <th>[0.025</th>    <th>0.975]</th>  \n",
       "</tr>\n",
       "<tr>\n",
       "  <th>const</th>           <td>    1.4908</td> <td>    0.027</td> <td>   55.698</td> <td> 0.000</td> <td>    1.438</td> <td>    1.543</td>\n",
       "</tr>\n",
       "<tr>\n",
       "  <th>contact_unknown</th> <td>   -1.2725</td> <td>    0.021</td> <td>  -59.750</td> <td> 0.000</td> <td>   -1.314</td> <td>   -1.231</td>\n",
       "</tr>\n",
       "<tr>\n",
       "  <th>marital_married</th> <td>   -0.3093</td> <td>    0.017</td> <td>  -18.169</td> <td> 0.000</td> <td>   -0.343</td> <td>   -0.276</td>\n",
       "</tr>\n",
       "<tr>\n",
       "  <th>month_aug</th>       <td>   -1.1508</td> <td>    0.029</td> <td>  -40.062</td> <td> 0.000</td> <td>   -1.207</td> <td>   -1.094</td>\n",
       "</tr>\n",
       "<tr>\n",
       "  <th>housing</th>         <td>   -0.4765</td> <td>    0.018</td> <td>  -26.771</td> <td> 0.000</td> <td>   -0.511</td> <td>   -0.442</td>\n",
       "</tr>\n",
       "<tr>\n",
       "  <th>month_jul</th>       <td>   -0.8793</td> <td>    0.025</td> <td>  -35.853</td> <td> 0.000</td> <td>   -0.927</td> <td>   -0.831</td>\n",
       "</tr>\n",
       "<tr>\n",
       "  <th>month_nov</th>       <td>   -0.8312</td> <td>    0.031</td> <td>  -26.986</td> <td> 0.000</td> <td>   -0.892</td> <td>   -0.771</td>\n",
       "</tr>\n",
       "<tr>\n",
       "  <th>job_blue-collar</th> <td>   -0.1442</td> <td>    0.021</td> <td>   -7.014</td> <td> 0.000</td> <td>   -0.184</td> <td>   -0.104</td>\n",
       "</tr>\n",
       "<tr>\n",
       "  <th>month_jan</th>       <td>   -2.0818</td> <td>    0.067</td> <td>  -31.140</td> <td> 0.000</td> <td>   -2.213</td> <td>   -1.951</td>\n",
       "</tr>\n",
       "<tr>\n",
       "  <th>30-60</th>           <td>   -0.3844</td> <td>    0.025</td> <td>  -15.406</td> <td> 0.000</td> <td>   -0.433</td> <td>   -0.335</td>\n",
       "</tr>\n",
       "</table>"
      ],
      "text/plain": [
       "<class 'statsmodels.iolib.summary.Summary'>\n",
       "\"\"\"\n",
       "                           Logit Regression Results                           \n",
       "==============================================================================\n",
       "Dep. Variable:                      y   No. Observations:                66790\n",
       "Model:                          Logit   Df Residuals:                    66780\n",
       "Method:                           MLE   Df Model:                            9\n",
       "Date:                Thu, 25 Aug 2022   Pseudo R-squ.:                 0.07907\n",
       "Time:                        16:17:18   Log-Likelihood:                -42635.\n",
       "converged:                       True   LL-Null:                       -46295.\n",
       "Covariance Type:            nonrobust   LLR p-value:                     0.000\n",
       "===================================================================================\n",
       "                      coef    std err          z      P>|z|      [0.025      0.975]\n",
       "-----------------------------------------------------------------------------------\n",
       "const               1.4908      0.027     55.698      0.000       1.438       1.543\n",
       "contact_unknown    -1.2725      0.021    -59.750      0.000      -1.314      -1.231\n",
       "marital_married    -0.3093      0.017    -18.169      0.000      -0.343      -0.276\n",
       "month_aug          -1.1508      0.029    -40.062      0.000      -1.207      -1.094\n",
       "housing            -0.4765      0.018    -26.771      0.000      -0.511      -0.442\n",
       "month_jul          -0.8793      0.025    -35.853      0.000      -0.927      -0.831\n",
       "month_nov          -0.8312      0.031    -26.986      0.000      -0.892      -0.771\n",
       "job_blue-collar    -0.1442      0.021     -7.014      0.000      -0.184      -0.104\n",
       "month_jan          -2.0818      0.067    -31.140      0.000      -2.213      -1.951\n",
       "30-60              -0.3844      0.025    -15.406      0.000      -0.433      -0.335\n",
       "===================================================================================\n",
       "\"\"\""
      ]
     },
     "execution_count": 543,
     "metadata": {},
     "output_type": "execute_result"
    }
   ],
   "source": [
    "# Final Demographics/Financials/Contact model summary\n",
    "result.summary()"
   ]
  },
  {
   "cell_type": "markdown",
   "id": "50fe18c6",
   "metadata": {},
   "source": [
    "## Full Dataset Model ##\n",
    "\n",
    "### Preprocess data ###"
   ]
  },
  {
   "cell_type": "code",
   "execution_count": 628,
   "id": "ca91eeeb",
   "metadata": {},
   "outputs": [],
   "source": [
    "# Read in the rawData\n",
    "rawData = pd.read_csv('term-deposit-marketing-2020.csv')\n",
    "\n",
    "# Separate data in independent (features) and dependent (target) datasets\n",
    "features = rawData.copy()\n",
    "target = features.pop('y')\n",
    "\n",
    "# Replace target 'yes'/'no' with 1/0\n",
    "target.replace({'yes':1,'no':0}, inplace=True)\n",
    "\n",
    "# Split data initially to form a validation and test dataset\n",
    "x_train, x_test, y_train, y_test = train_test_split(features, target, test_size=0.10, random_state=10)\n",
    "\n",
    "# Reset index after train_test_split\n",
    "x_train.reset_index(drop=True, inplace=True)\n",
    "y_train.reset_index(drop=True, inplace=True)\n",
    "x_test.reset_index(drop=True, inplace=True)\n",
    "y_test.reset_index(drop=True, inplace=True)"
   ]
  },
  {
   "cell_type": "code",
   "execution_count": 629,
   "id": "94e87c74",
   "metadata": {},
   "outputs": [],
   "source": [
    "# Replace binary columns with 1/0 and One-Hot Encode categorical columns\n",
    "cols = ['default', 'housing', 'loan', 'marital', 'education', 'job', 'contact', 'month', 'day']\n",
    "enc = OneHotEncoder(sparse=False, dtype=int, handle_unknown='error', drop='if_binary')\n",
    "encodedTrain = enc.fit_transform(x_train[cols]) # Fit only on the training data\n",
    "encodedTest = enc.transform(x_test[cols])\n",
    "\n",
    "# Construct encoded names for One-Hot columns\n",
    "encNames = enc.get_feature_names()\n",
    "for index, item in enumerate(encNames):\n",
    "    tmp = item.split('_')[0].split('x')[1]\n",
    "    if (item.split('_')[1] == 'yes'):\n",
    "        encNames[index] = encNames[index].replace('x' + tmp + '_yes', cols[int(tmp)])\n",
    "    else:\n",
    "        encNames[index] = encNames[index].replace('x' + tmp, cols[int(tmp)])\n",
    "\n",
    "encodedTrain = pd.DataFrame(encodedTrain, columns=encNames)\n",
    "encodedTest = pd.DataFrame(encodedTest, columns=encNames)\n",
    "\n",
    "# Merge encoded columns back into the dataset\n",
    "x_train = x_train.drop(columns=cols)\n",
    "x_train = pd.concat([x_train, encodedTrain], axis=1)\n",
    "x_test = x_test.drop(columns=cols)\n",
    "x_test = pd.concat([x_test, encodedTest], axis=1)"
   ]
  },
  {
   "cell_type": "code",
   "execution_count": 630,
   "id": "4eb6ffd7",
   "metadata": {},
   "outputs": [],
   "source": [
    "# Bin age to deal with outliers/group similar ranges \n",
    "for dataset in [x_train, x_test]:    \n",
    "    dataset['<30'] = (dataset['age'] < 30).replace({True:1,False:0})\n",
    "    dataset['30-60'] = ((dataset['age'] >= 30) & (dataset['age'] < 61)).replace({True:1,False:0})\n",
    "    dataset['61+'] = (dataset['age'] >= 61).replace({True:1,False:0})\n",
    "\n",
    "# Bin balance to deal with outliers/group similar ranges\n",
    "for dataset in [x_train, x_test]:    \n",
    "    dataset['<1000'] = (dataset['balance'] < 1000).replace({True:1,False:0})\n",
    "    dataset['1000-20000'] = ((dataset['balance'] >= 1000) & (dataset['age'] < 20000)).replace({True:1,False:0})\n",
    "    dataset['>20000'] = (dataset['balance'] >= 20000).replace({True:1,False:0})\n",
    "    \n",
    "# Bin day to deal with outliers/group similar ranges\n",
    "#for dataset in [x_train, x_test]:    \n",
    "#    dataset['BegMonth'] = (dataset['day'] < 5).replace({True:1,False:0})\n",
    "#    dataset['MidMonth'] = ((dataset['day'] >= 5) & (dataset['day'] < 30)).replace({True:1,False:0})\n",
    "#    dataset['LastDayMonth'] = (dataset['day'] >= 30).replace({True:1,False:0})"
   ]
  },
  {
   "cell_type": "markdown",
   "id": "811b927d",
   "metadata": {},
   "source": [
    "### Build Up Model ###"
   ]
  },
  {
   "cell_type": "code",
   "execution_count": 682,
   "id": "1c7b2dbe",
   "metadata": {},
   "outputs": [
    {
     "name": "stderr",
     "output_type": "stream",
     "text": [
      "/usr/local/anaconda3/lib/python3.7/site-packages/statsmodels/tsa/tsatools.py:130: FutureWarning: In a future version of pandas all arguments of concat except for the argument 'objs' will be keyword-only\n",
      "  x = pd.concat(x[::order], 1)\n"
     ]
    },
    {
     "data": {
      "text/html": [
       "<div>\n",
       "<style scoped>\n",
       "    .dataframe tbody tr th:only-of-type {\n",
       "        vertical-align: middle;\n",
       "    }\n",
       "\n",
       "    .dataframe tbody tr th {\n",
       "        vertical-align: top;\n",
       "    }\n",
       "\n",
       "    .dataframe thead th {\n",
       "        text-align: right;\n",
       "    }\n",
       "</style>\n",
       "<table border=\"1\" class=\"dataframe\">\n",
       "  <thead>\n",
       "    <tr style=\"text-align: right;\">\n",
       "      <th></th>\n",
       "      <th>llf</th>\n",
       "      <th>max_pvalue</th>\n",
       "      <th>aic</th>\n",
       "      <th>bic</th>\n",
       "      <th>recall</th>\n",
       "      <th>precision</th>\n",
       "      <th>f1</th>\n",
       "      <th>accuracy</th>\n",
       "      <th>balanced accuracy</th>\n",
       "    </tr>\n",
       "    <tr>\n",
       "      <th>name</th>\n",
       "      <th></th>\n",
       "      <th></th>\n",
       "      <th></th>\n",
       "      <th></th>\n",
       "      <th></th>\n",
       "      <th></th>\n",
       "      <th></th>\n",
       "      <th></th>\n",
       "      <th></th>\n",
       "    </tr>\n",
       "  </thead>\n",
       "  <tbody>\n",
       "    <tr>\n",
       "      <th>age</th>\n",
       "      <td>-17161.050688</td>\n",
       "      <td>1.614227e-12</td>\n",
       "      <td>34338.101375</td>\n",
       "      <td>34409.191654</td>\n",
       "      <td>0.708118</td>\n",
       "      <td>0.361952</td>\n",
       "      <td>0.478962</td>\n",
       "      <td>0.888694</td>\n",
       "      <td>0.805436</td>\n",
       "    </tr>\n",
       "  </tbody>\n",
       "</table>\n",
       "</div>"
      ],
      "text/plain": [
       "               llf    max_pvalue           aic           bic    recall  \\\n",
       "name                                                                     \n",
       "age  -17161.050688  1.614227e-12  34338.101375  34409.191654  0.708118   \n",
       "\n",
       "      precision        f1  accuracy  balanced accuracy  \n",
       "name                                                    \n",
       "age    0.361952  0.478962  0.888694           0.805436  "
      ]
     },
     "execution_count": 682,
     "metadata": {},
     "output_type": "execute_result"
    }
   ],
   "source": [
    "# Create 5 k-folds for model evaluation\n",
    "kf = KFold(n_splits=5, random_state=30, shuffle=True)\n",
    "\n",
    "# Add constants to the dataset (needed in statsmodels package)\n",
    "x_train = sm.add_constant(x_train)\n",
    "\n",
    "# Create a list to append models evaluation to\n",
    "summaryTab = []\n",
    "\n",
    "# Build-up model process, test each indep variable against response,\n",
    "# choose best performing (ad-hoc process using combination of low AIC/BIC, \n",
    "# p-value and validation set scoring metrics)\n",
    "# Then add that variable and repeat the process with the remaining variables\n",
    "# Stop once the addition of extra variables doesn't add much to the solution (keep model simpler)\n",
    "for col in x_train:\n",
    "    #print (col)\n",
    "    # features chosen in the final model\n",
    "    useCols = ['const', 'duration', 'contact_unknown', 'month_mar', '30-60', '<30', 'month_oct',\n",
    "               'month_jan']\n",
    "    # features that begin to have convergence issues as the model is developed\n",
    "    skipCols = ['61+', 'month_dec', '20000+'] \n",
    "    if (col in useCols): continue\n",
    "    if (col in skipCols): continue\n",
    "    #useCols.append(col)  ### comment this out when finished\n",
    "    \n",
    "    # Cross-validation loop\n",
    "    cnt = 0\n",
    "    for train_index, valid_index in kf.split(x_train):\n",
    "        cur_x_train, cur_x_valid = x_train.iloc[train_index], x_train.iloc[valid_index]\n",
    "        cur_y_train, cur_y_valid = y_train.iloc[train_index], y_train.iloc[valid_index]\n",
    "        \n",
    "        # Oversample the minority set in the training data\n",
    "        oversample = SMOTE()\n",
    "        x_train_ov, y_train_ov = oversample.fit_resample(cur_x_train, cur_y_train)\n",
    "        \n",
    "        # Train model\n",
    "        logReg = sm.Logit(y_train_ov, x_train_ov[useCols])\n",
    "        result = logReg.fit(disp=False)\n",
    "\n",
    "        # Evaluate model on validation dataset\n",
    "        y_pred = logReg.predict(result.params, exog=cur_x_valid[useCols])\n",
    "    \n",
    "        # Store model evaluation metrics to display below\n",
    "        summaryTab.append([cnt, col, result.pvalues.max(), result.llf, result.aic, result.bic, \n",
    "                       recall_score(cur_y_valid,y_pred.round()),precision_score(cur_y_valid,y_pred.round()),\n",
    "                       f1_score(cur_y_valid,y_pred.round()),accuracy_score(cur_y_valid,y_pred.round()),\n",
    "                       balanced_accuracy_score(cur_y_valid,y_pred.round())])\n",
    "        \n",
    "        # Counter for fold number\n",
    "        cnt = cnt + 1\n",
    "        \n",
    "    break   ### comment this in when finished to build final model\n",
    "    \n",
    "# Create summary table\n",
    "tab = pd.DataFrame(summaryTab, columns=['fold', 'name', 'max_pvalue','llf', 'aic', 'bic', 'recall', \n",
    "                                        'precision', 'f1', 'accuracy', 'balanced accuracy'])\n",
    "\n",
    "# Aggregate results across folds\n",
    "aggs = {'llf': 'mean', 'max_pvalue': 'max', 'aic': 'mean', 'bic': 'mean', 'recall': 'mean', \n",
    "        'precision': 'mean', 'f1': 'mean', 'accuracy': 'mean', 'balanced accuracy': 'mean'}\n",
    "tab = tab.groupby(by='name').agg(aggs)\n",
    "\n",
    "# Display model evaluation results\n",
    "tab.sort_values(by='aic', ascending=True)"
   ]
  },
  {
   "cell_type": "code",
   "execution_count": 688,
   "id": "f61497a1",
   "metadata": {},
   "outputs": [
    {
     "data": {
      "text/html": [
       "<div>\n",
       "<style scoped>\n",
       "    .dataframe tbody tr th:only-of-type {\n",
       "        vertical-align: middle;\n",
       "    }\n",
       "\n",
       "    .dataframe tbody tr th {\n",
       "        vertical-align: top;\n",
       "    }\n",
       "\n",
       "    .dataframe thead th {\n",
       "        text-align: right;\n",
       "    }\n",
       "</style>\n",
       "<table border=\"1\" class=\"dataframe\">\n",
       "  <thead>\n",
       "    <tr style=\"text-align: right;\">\n",
       "      <th></th>\n",
       "      <th>llf</th>\n",
       "      <th>max_pvalue</th>\n",
       "      <th>aic</th>\n",
       "      <th>bic</th>\n",
       "      <th>recall</th>\n",
       "      <th>precision</th>\n",
       "      <th>f1</th>\n",
       "      <th>accuracy</th>\n",
       "      <th>balanced accuracy</th>\n",
       "      <th>seq</th>\n",
       "    </tr>\n",
       "  </thead>\n",
       "  <tbody>\n",
       "    <tr>\n",
       "      <th>duration</th>\n",
       "      <td>-24640.108390</td>\n",
       "      <td>0.000000e+00</td>\n",
       "      <td>49284.216780</td>\n",
       "      <td>49301.989349</td>\n",
       "      <td>0.738003</td>\n",
       "      <td>0.292128</td>\n",
       "      <td>0.418481</td>\n",
       "      <td>0.851806</td>\n",
       "      <td>0.799331</td>\n",
       "      <td>1.0</td>\n",
       "    </tr>\n",
       "    <tr>\n",
       "      <th>month_mar</th>\n",
       "      <td>-24456.770497</td>\n",
       "      <td>8.199535e-57</td>\n",
       "      <td>48919.540994</td>\n",
       "      <td>48946.199848</td>\n",
       "      <td>0.773740</td>\n",
       "      <td>0.300767</td>\n",
       "      <td>0.433087</td>\n",
       "      <td>0.853667</td>\n",
       "      <td>0.816810</td>\n",
       "      <td>2.0</td>\n",
       "    </tr>\n",
       "    <tr>\n",
       "      <th>30-60</th>\n",
       "      <td>-19778.921900</td>\n",
       "      <td>5.667477e-22</td>\n",
       "      <td>39567.843800</td>\n",
       "      <td>39612.275224</td>\n",
       "      <td>0.758439</td>\n",
       "      <td>0.298188</td>\n",
       "      <td>0.428012</td>\n",
       "      <td>0.853528</td>\n",
       "      <td>0.809683</td>\n",
       "      <td>3.0</td>\n",
       "    </tr>\n",
       "    <tr>\n",
       "      <th>&lt;30</th>\n",
       "      <td>-17537.884079</td>\n",
       "      <td>1.670056e-20</td>\n",
       "      <td>35087.768159</td>\n",
       "      <td>35141.085867</td>\n",
       "      <td>0.700364</td>\n",
       "      <td>0.357007</td>\n",
       "      <td>0.472899</td>\n",
       "      <td>0.887222</td>\n",
       "      <td>0.801064</td>\n",
       "      <td>4.0</td>\n",
       "    </tr>\n",
       "    <tr>\n",
       "      <th>month_oct</th>\n",
       "      <td>-17505.029612</td>\n",
       "      <td>1.751471e-15</td>\n",
       "      <td>35024.059223</td>\n",
       "      <td>35086.263217</td>\n",
       "      <td>0.708868</td>\n",
       "      <td>0.359291</td>\n",
       "      <td>0.476828</td>\n",
       "      <td>0.887639</td>\n",
       "      <td>0.805212</td>\n",
       "      <td>5.0</td>\n",
       "    </tr>\n",
       "    <tr>\n",
       "      <th>month_jan</th>\n",
       "      <td>-17170.385742</td>\n",
       "      <td>1.308193e-13</td>\n",
       "      <td>34356.771484</td>\n",
       "      <td>34427.861762</td>\n",
       "      <td>0.707690</td>\n",
       "      <td>0.362108</td>\n",
       "      <td>0.479035</td>\n",
       "      <td>0.888806</td>\n",
       "      <td>0.805296</td>\n",
       "      <td>6.0</td>\n",
       "    </tr>\n",
       "  </tbody>\n",
       "</table>\n",
       "</div>"
      ],
      "text/plain": [
       "                    llf    max_pvalue           aic           bic    recall  \\\n",
       "duration  -24640.108390  0.000000e+00  49284.216780  49301.989349  0.738003   \n",
       "month_mar -24456.770497  8.199535e-57  48919.540994  48946.199848  0.773740   \n",
       "30-60     -19778.921900  5.667477e-22  39567.843800  39612.275224  0.758439   \n",
       "<30       -17537.884079  1.670056e-20  35087.768159  35141.085867  0.700364   \n",
       "month_oct -17505.029612  1.751471e-15  35024.059223  35086.263217  0.708868   \n",
       "month_jan -17170.385742  1.308193e-13  34356.771484  34427.861762  0.707690   \n",
       "\n",
       "           precision        f1  accuracy  balanced accuracy  seq  \n",
       "duration    0.292128  0.418481  0.851806           0.799331  1.0  \n",
       "month_mar   0.300767  0.433087  0.853667           0.816810  2.0  \n",
       "30-60       0.298188  0.428012  0.853528           0.809683  3.0  \n",
       "<30         0.357007  0.472899  0.887222           0.801064  4.0  \n",
       "month_oct   0.359291  0.476828  0.887639           0.805212  5.0  \n",
       "month_jan   0.362108  0.479035  0.888806           0.805296  6.0  "
      ]
     },
     "execution_count": 688,
     "metadata": {},
     "output_type": "execute_result"
    }
   ],
   "source": [
    "# Build up model sequence summary (seq column tells order in which feature was added)\n",
    "fullDatasetModel = pickle.load(open('fullDatasetModel.p','rb'))\n",
    "fullDatasetModel.sort_values(by='seq')"
   ]
  },
  {
   "cell_type": "markdown",
   "id": "b4d0a6ea",
   "metadata": {},
   "source": [
    "### Evaluate model on test data ###"
   ]
  },
  {
   "cell_type": "code",
   "execution_count": 691,
   "id": "93704a30",
   "metadata": {},
   "outputs": [
    {
     "name": "stdout",
     "output_type": "stream",
     "text": [
      "Recall: 0.6677966101694915\n",
      "Precision: 0.32137030995106036\n",
      "F1: 0.43392070484581496\n",
      "Accuracy: 0.8715\n"
     ]
    },
    {
     "name": "stderr",
     "output_type": "stream",
     "text": [
      "/usr/local/anaconda3/lib/python3.7/site-packages/statsmodels/tsa/tsatools.py:130: FutureWarning: In a future version of pandas all arguments of concat except for the argument 'objs' will be keyword-only\n",
      "  x = pd.concat(x[::order], 1)\n"
     ]
    }
   ],
   "source": [
    "finalCols = ['const', 'duration', 'contact_unknown', 'month_mar', '30-60', '<30', 'month_oct',\n",
    "               'month_jan']\n",
    "\n",
    "# Build final model\n",
    "oversample = SMOTE()\n",
    "x_train_ov, y_train_ov = oversample.fit_resample(x_train[finalCols], y_train)\n",
    "logReg = sm.Logit(y_train_ov, x_train_ov)\n",
    "result = logReg.fit(disp=False)\n",
    "\n",
    "# Evaluate model on test dataset\n",
    "x_test = sm.add_constant(x_test)\n",
    "y_pred = logReg.predict(result.params, exog=x_test[finalCols])\n",
    "\n",
    "print ('Recall:', recall_score(y_test,y_pred.round()))\n",
    "print ('Precision:', precision_score(y_test,y_pred.round()))\n",
    "print ('F1:', f1_score(y_test,y_pred.round()))\n",
    "print ('Accuracy:', accuracy_score(y_test,y_pred.round()))"
   ]
  },
  {
   "cell_type": "code",
   "execution_count": 692,
   "id": "7611ce73",
   "metadata": {},
   "outputs": [
    {
     "data": {
      "image/png": "[encoded data removed]",
      "text/plain": [
       "<Figure size 1008x720 with 2 Axes>"
      ]
     },
     "metadata": {
      "needs_background": "light"
     },
     "output_type": "display_data"
    }
   ],
   "source": [
    "# Plot confusion matrix for test data\n",
    "cm = confusion_matrix(y_test, y_pred.round())\n",
    "ax = ConfusionMatrixDisplay(cm, display_labels=['yes','no']).plot()\n",
    "ax.ax_.set_xlabel('Model Predictions', fontsize=14)\n",
    "ax.ax_.set_ylabel('True Response', fontsize=14)\n",
    "plt.show()"
   ]
  },
  {
   "cell_type": "code",
   "execution_count": 693,
   "id": "157f93ae",
   "metadata": {},
   "outputs": [
    {
     "data": {
      "text/html": [
       "<table class=\"simpletable\">\n",
       "<caption>Logit Regression Results</caption>\n",
       "<tr>\n",
       "  <th>Dep. Variable:</th>           <td>y</td>        <th>  No. Observations:  </th>  <td> 66798</td> \n",
       "</tr>\n",
       "<tr>\n",
       "  <th>Model:</th>                 <td>Logit</td>      <th>  Df Residuals:      </th>  <td> 66790</td> \n",
       "</tr>\n",
       "<tr>\n",
       "  <th>Method:</th>                 <td>MLE</td>       <th>  Df Model:          </th>  <td>     7</td> \n",
       "</tr>\n",
       "<tr>\n",
       "  <th>Date:</th>            <td>Thu, 25 Aug 2022</td> <th>  Pseudo R-squ.:     </th>  <td>0.5020</td> \n",
       "</tr>\n",
       "<tr>\n",
       "  <th>Time:</th>                <td>22:34:00</td>     <th>  Log-Likelihood:    </th> <td> -23058.</td>\n",
       "</tr>\n",
       "<tr>\n",
       "  <th>converged:</th>             <td>True</td>       <th>  LL-Null:           </th> <td> -46301.</td>\n",
       "</tr>\n",
       "<tr>\n",
       "  <th>Covariance Type:</th>     <td>nonrobust</td>    <th>  LLR p-value:       </th>  <td> 0.000</td> \n",
       "</tr>\n",
       "</table>\n",
       "<table class=\"simpletable\">\n",
       "<tr>\n",
       "         <td></td>            <th>coef</th>     <th>std err</th>      <th>z</th>      <th>P>|z|</th>  <th>[0.025</th>    <th>0.975]</th>  \n",
       "</tr>\n",
       "<tr>\n",
       "  <th>const</th>           <td>    2.0764</td> <td>    0.093</td> <td>   22.379</td> <td> 0.000</td> <td>    1.895</td> <td>    2.258</td>\n",
       "</tr>\n",
       "<tr>\n",
       "  <th>duration</th>        <td>    0.0062</td> <td> 5.41e-05</td> <td>  115.071</td> <td> 0.000</td> <td>    0.006</td> <td>    0.006</td>\n",
       "</tr>\n",
       "<tr>\n",
       "  <th>contact_unknown</th> <td>   -2.7269</td> <td>    0.043</td> <td>  -63.257</td> <td> 0.000</td> <td>   -2.811</td> <td>   -2.642</td>\n",
       "</tr>\n",
       "<tr>\n",
       "  <th>month_mar</th>       <td>    1.8417</td> <td>    0.117</td> <td>   15.724</td> <td> 0.000</td> <td>    1.612</td> <td>    2.071</td>\n",
       "</tr>\n",
       "<tr>\n",
       "  <th>30-60</th>           <td>   -4.3151</td> <td>    0.093</td> <td>  -46.312</td> <td> 0.000</td> <td>   -4.498</td> <td>   -4.132</td>\n",
       "</tr>\n",
       "<tr>\n",
       "  <th><30</th>             <td>   -4.4997</td> <td>    0.101</td> <td>  -44.654</td> <td> 0.000</td> <td>   -4.697</td> <td>   -4.302</td>\n",
       "</tr>\n",
       "<tr>\n",
       "  <th>month_oct</th>       <td>    2.6471</td> <td>    0.286</td> <td>    9.268</td> <td> 0.000</td> <td>    2.087</td> <td>    3.207</td>\n",
       "</tr>\n",
       "<tr>\n",
       "  <th>month_jan</th>       <td>   -4.4020</td> <td>    0.240</td> <td>  -18.330</td> <td> 0.000</td> <td>   -4.873</td> <td>   -3.931</td>\n",
       "</tr>\n",
       "</table>"
      ],
      "text/plain": [
       "<class 'statsmodels.iolib.summary.Summary'>\n",
       "\"\"\"\n",
       "                           Logit Regression Results                           \n",
       "==============================================================================\n",
       "Dep. Variable:                      y   No. Observations:                66798\n",
       "Model:                          Logit   Df Residuals:                    66790\n",
       "Method:                           MLE   Df Model:                            7\n",
       "Date:                Thu, 25 Aug 2022   Pseudo R-squ.:                  0.5020\n",
       "Time:                        22:34:00   Log-Likelihood:                -23058.\n",
       "converged:                       True   LL-Null:                       -46301.\n",
       "Covariance Type:            nonrobust   LLR p-value:                     0.000\n",
       "===================================================================================\n",
       "                      coef    std err          z      P>|z|      [0.025      0.975]\n",
       "-----------------------------------------------------------------------------------\n",
       "const               2.0764      0.093     22.379      0.000       1.895       2.258\n",
       "duration            0.0062   5.41e-05    115.071      0.000       0.006       0.006\n",
       "contact_unknown    -2.7269      0.043    -63.257      0.000      -2.811      -2.642\n",
       "month_mar           1.8417      0.117     15.724      0.000       1.612       2.071\n",
       "30-60              -4.3151      0.093    -46.312      0.000      -4.498      -4.132\n",
       "<30                -4.4997      0.101    -44.654      0.000      -4.697      -4.302\n",
       "month_oct           2.6471      0.286      9.268      0.000       2.087       3.207\n",
       "month_jan          -4.4020      0.240    -18.330      0.000      -4.873      -3.931\n",
       "===================================================================================\n",
       "\"\"\""
      ]
     },
     "execution_count": 693,
     "metadata": {},
     "output_type": "execute_result"
    }
   ],
   "source": [
    "# Final Full Dataset model summary\n",
    "result.summary()"
   ]
  },
  {
   "cell_type": "code",
   "execution_count": null,
   "id": "059859d7",
   "metadata": {},
   "outputs": [],
   "source": []
  },
  {
   "cell_type": "code",
   "execution_count": null,
   "id": "3cfd5068",
   "metadata": {},
   "outputs": [],
   "source": []
  },
  {
   "cell_type": "code",
   "execution_count": null,
   "id": "008ecee2",
   "metadata": {},
   "outputs": [],
   "source": []
  },
  {
   "cell_type": "code",
   "execution_count": null,
   "id": "ac82b22f",
   "metadata": {},
   "outputs": [],
   "source": []
  },
  {
   "cell_type": "code",
   "execution_count": null,
   "id": "6df6c78b",
   "metadata": {},
   "outputs": [],
   "source": []
  },
  {
   "cell_type": "code",
   "execution_count": null,
   "id": "2458c43e",
   "metadata": {},
   "outputs": [],
   "source": []
  }
 ],
 "metadata": {
  "kernelspec": {
   "display_name": "Python 3 (ipykernel)",
   "language": "python",
   "name": "python3"
  },
  "language_info": {
   "codemirror_mode": {
    "name": "ipython",
    "version": 3
   },
   "file_extension": ".py",
   "mimetype": "text/x-python",
   "name": "python",
   "nbconvert_exporter": "python",
   "pygments_lexer": "ipython3",
   "version": "3.7.11"
  }
 },
 "nbformat": 4,
 "nbformat_minor": 5
}
